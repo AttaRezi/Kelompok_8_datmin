{
 "cells": [
  {
   "cell_type": "markdown",
   "id": "4c71b994",
   "metadata": {},
   "source": [
    "# Kelompok 8\n",
    " - Atta A. Kurnia (2006836)\n",
    " - Azzahra Alika (2105899)\n",
    " - Azzam M. Naufal ()\n",
    " - Muhamad N. Daffa (2003217)\n",
    " - Riska Nurohmah (2109103)"
   ]
  },
  {
   "cell_type": "code",
   "execution_count": 1,
   "id": "4e8cb4f5",
   "metadata": {},
   "outputs": [],
   "source": [
    "%matplotlib inline\n",
    "import numpy as np\n",
    "import pandas as pd\n",
    "import matplotlib.pyplot as plt\n",
    "import seaborn as sns"
   ]
  },
  {
   "cell_type": "code",
   "execution_count": 2,
   "id": "721e45d4",
   "metadata": {},
   "outputs": [],
   "source": [
    "#load dataset atau file csv ke DataFrame\n",
    "df2 = pd.read_csv(\"C:\\\\Users\\\\riska\\\\Downloads\\\\data_returns\\\\orders_train.txt\", sep=\";\")"
   ]
  },
  {
   "cell_type": "code",
   "execution_count": 3,
   "id": "a6543056",
   "metadata": {},
   "outputs": [
    {
     "name": "stdout",
     "output_type": "stream",
     "text": [
      "<class 'pandas.core.frame.DataFrame'>\n",
      "RangeIndex: 481092 entries, 0 to 481091\n",
      "Data columns (total 14 columns):\n",
      " #   Column          Non-Null Count   Dtype  \n",
      "---  ------          --------------   -----  \n",
      " 0   orderItemID     481092 non-null  int64  \n",
      " 1   orderDate       481092 non-null  object \n",
      " 2   deliveryDate    481092 non-null  object \n",
      " 3   itemID          481092 non-null  int64  \n",
      " 4   size            481092 non-null  object \n",
      " 5   color           481092 non-null  object \n",
      " 6   manufacturerID  481092 non-null  int64  \n",
      " 7   price           481092 non-null  float64\n",
      " 8   customerID      481092 non-null  int64  \n",
      " 9   salutation      481092 non-null  object \n",
      " 10  dateOfBirth     481092 non-null  object \n",
      " 11  state           481092 non-null  object \n",
      " 12  creationDate    481092 non-null  object \n",
      " 13  returnShipment  481092 non-null  int64  \n",
      "dtypes: float64(1), int64(5), object(8)\n",
      "memory usage: 51.4+ MB\n"
     ]
    }
   ],
   "source": [
    "df2.info()"
   ]
  },
  {
   "cell_type": "code",
   "execution_count": 4,
   "id": "f9593d2e",
   "metadata": {},
   "outputs": [
    {
     "data": {
      "text/html": [
       "<div>\n",
       "<style scoped>\n",
       "    .dataframe tbody tr th:only-of-type {\n",
       "        vertical-align: middle;\n",
       "    }\n",
       "\n",
       "    .dataframe tbody tr th {\n",
       "        vertical-align: top;\n",
       "    }\n",
       "\n",
       "    .dataframe thead th {\n",
       "        text-align: right;\n",
       "    }\n",
       "</style>\n",
       "<table border=\"1\" class=\"dataframe\">\n",
       "  <thead>\n",
       "    <tr style=\"text-align: right;\">\n",
       "      <th></th>\n",
       "      <th>orderItemID</th>\n",
       "      <th>orderDate</th>\n",
       "      <th>deliveryDate</th>\n",
       "      <th>itemID</th>\n",
       "      <th>size</th>\n",
       "      <th>color</th>\n",
       "      <th>manufacturerID</th>\n",
       "      <th>price</th>\n",
       "      <th>customerID</th>\n",
       "      <th>salutation</th>\n",
       "      <th>dateOfBirth</th>\n",
       "      <th>state</th>\n",
       "      <th>creationDate</th>\n",
       "      <th>returnShipment</th>\n",
       "    </tr>\n",
       "  </thead>\n",
       "  <tbody>\n",
       "    <tr>\n",
       "      <th>0</th>\n",
       "      <td>1</td>\n",
       "      <td>2012-04-01</td>\n",
       "      <td>2012-04-03</td>\n",
       "      <td>186</td>\n",
       "      <td>m</td>\n",
       "      <td>denim</td>\n",
       "      <td>25</td>\n",
       "      <td>69.90</td>\n",
       "      <td>794</td>\n",
       "      <td>Mrs</td>\n",
       "      <td>1965-01-06</td>\n",
       "      <td>Baden-Wuerttemberg</td>\n",
       "      <td>2011-04-25</td>\n",
       "      <td>0</td>\n",
       "    </tr>\n",
       "    <tr>\n",
       "      <th>1</th>\n",
       "      <td>2</td>\n",
       "      <td>2012-04-01</td>\n",
       "      <td>2012-04-03</td>\n",
       "      <td>71</td>\n",
       "      <td>9+</td>\n",
       "      <td>ocher</td>\n",
       "      <td>21</td>\n",
       "      <td>69.95</td>\n",
       "      <td>794</td>\n",
       "      <td>Mrs</td>\n",
       "      <td>1965-01-06</td>\n",
       "      <td>Baden-Wuerttemberg</td>\n",
       "      <td>2011-04-25</td>\n",
       "      <td>1</td>\n",
       "    </tr>\n",
       "    <tr>\n",
       "      <th>2</th>\n",
       "      <td>3</td>\n",
       "      <td>2012-04-01</td>\n",
       "      <td>2012-04-03</td>\n",
       "      <td>71</td>\n",
       "      <td>9+</td>\n",
       "      <td>curry</td>\n",
       "      <td>21</td>\n",
       "      <td>69.95</td>\n",
       "      <td>794</td>\n",
       "      <td>Mrs</td>\n",
       "      <td>1965-01-06</td>\n",
       "      <td>Baden-Wuerttemberg</td>\n",
       "      <td>2011-04-25</td>\n",
       "      <td>1</td>\n",
       "    </tr>\n",
       "  </tbody>\n",
       "</table>\n",
       "</div>"
      ],
      "text/plain": [
       "   orderItemID   orderDate deliveryDate  itemID size  color  manufacturerID  \\\n",
       "0            1  2012-04-01   2012-04-03     186    m  denim              25   \n",
       "1            2  2012-04-01   2012-04-03      71   9+  ocher              21   \n",
       "2            3  2012-04-01   2012-04-03      71   9+  curry              21   \n",
       "\n",
       "   price  customerID salutation dateOfBirth               state creationDate  \\\n",
       "0  69.90         794        Mrs  1965-01-06  Baden-Wuerttemberg   2011-04-25   \n",
       "1  69.95         794        Mrs  1965-01-06  Baden-Wuerttemberg   2011-04-25   \n",
       "2  69.95         794        Mrs  1965-01-06  Baden-Wuerttemberg   2011-04-25   \n",
       "\n",
       "   returnShipment  \n",
       "0               0  \n",
       "1               1  \n",
       "2               1  "
      ]
     },
     "execution_count": 4,
     "metadata": {},
     "output_type": "execute_result"
    }
   ],
   "source": [
    "df2.head(3)"
   ]
  },
  {
   "cell_type": "markdown",
   "id": "6394dcca",
   "metadata": {},
   "source": [
    "Terdapat datatype yang seharusnya merupakan datetime namun bertipe object, sehingga perlu diubah."
   ]
  },
  {
   "cell_type": "code",
   "execution_count": 5,
   "id": "b993de1c",
   "metadata": {},
   "outputs": [
    {
     "data": {
      "text/plain": [
       "orderItemID       0\n",
       "orderDate         0\n",
       "deliveryDate      0\n",
       "itemID            0\n",
       "size              0\n",
       "color             0\n",
       "manufacturerID    0\n",
       "price             0\n",
       "customerID        0\n",
       "salutation        0\n",
       "dateOfBirth       0\n",
       "state             0\n",
       "creationDate      0\n",
       "returnShipment    0\n",
       "dtype: int64"
      ]
     },
     "execution_count": 5,
     "metadata": {},
     "output_type": "execute_result"
    }
   ],
   "source": [
    "df2.isna().sum()"
   ]
  },
  {
   "cell_type": "code",
   "execution_count": 6,
   "id": "f032730c",
   "metadata": {},
   "outputs": [
    {
     "data": {
      "text/plain": [
       "orderItemID           0\n",
       "orderDate             0\n",
       "deliveryDate      39419\n",
       "itemID                0\n",
       "size                  0\n",
       "color               143\n",
       "manufacturerID        0\n",
       "price                 0\n",
       "customerID            0\n",
       "salutation            0\n",
       "dateOfBirth       48889\n",
       "state                 0\n",
       "creationDate          0\n",
       "returnShipment        0\n",
       "dtype: int64"
      ]
     },
     "execution_count": 6,
     "metadata": {},
     "output_type": "execute_result"
    }
   ],
   "source": [
    "df2.isin(['?']).sum()"
   ]
  },
  {
   "cell_type": "markdown",
   "id": "9db68803",
   "metadata": {},
   "source": [
    "# praproses orderDate & deliveryDate"
   ]
  },
  {
   "cell_type": "code",
   "execution_count": 7,
   "id": "f805aa7d",
   "metadata": {},
   "outputs": [
    {
     "data": {
      "text/plain": [
       "4660"
      ]
     },
     "execution_count": 7,
     "metadata": {},
     "output_type": "execute_result"
    }
   ],
   "source": [
    "#melihat banyak data deliveryDate yang tahunnya 1990\n",
    "df2['deliveryDate'].str.contains(\"1990\").sum()"
   ]
  },
  {
   "cell_type": "code",
   "execution_count": 8,
   "id": "7c072733",
   "metadata": {},
   "outputs": [
    {
     "data": {
      "text/plain": [
       "3"
      ]
     },
     "execution_count": 8,
     "metadata": {},
     "output_type": "execute_result"
    }
   ],
   "source": [
    "#melihat banyak data dateOfBirth yang tahunnya 1655\n",
    "df2['dateOfBirth'].str.contains(\"1655\").sum()"
   ]
  },
  {
   "cell_type": "markdown",
   "id": "6dd0afd6",
   "metadata": {},
   "source": [
    "Terdapat data yang tidak valid pada attribut beberapa attribut berupa '?' dan datetime dengan nilai tahun yang tidak masuk akal seperti '1990' dan '1655'"
   ]
  },
  {
   "cell_type": "code",
   "execution_count": 9,
   "id": "983bd286",
   "metadata": {},
   "outputs": [],
   "source": [
    "#mengubah entry invalid menjadi NaN\n",
    "df2 = df2.replace('?', np.nan)\n",
    "df2 = df2.replace('1990-12-31', np.nan)\n",
    "df2 = df2.replace('1655-04-19', np.nan)"
   ]
  },
  {
   "cell_type": "code",
   "execution_count": 10,
   "id": "9356019f",
   "metadata": {},
   "outputs": [],
   "source": [
    "#mengubah tipe data attribut yang berupa tanggal menjadi datetime\n",
    "df2['orderDate'] = pd.to_datetime(df2['orderDate'])\n",
    "df2['deliveryDate'] = pd.to_datetime(df2['deliveryDate'])\n",
    "df2['dateOfBirth'] = pd.to_datetime(df2['dateOfBirth'])\n",
    "df2['creationDate'] = pd.to_datetime(df2['creationDate'])"
   ]
  },
  {
   "cell_type": "code",
   "execution_count": 11,
   "id": "1e3508f6",
   "metadata": {},
   "outputs": [],
   "source": [
    "#membuat attribut baru dari orderDate dan deliveryDate agar dapat direpresentasikan sebagai numerik\n",
    "df2.insert(2, \"orderYear\", np.nan)\n",
    "df2.insert(3, \"orderMonth\", np.nan)\n",
    "df2.insert(4, \"orderDated\", np.nan)\n",
    "df2.insert(6, \"deliveryYear\", np.nan)\n",
    "df2.insert(7, \"deliveryMonth\", np.nan)\n",
    "df2.insert(8, \"deliveryDated\", np.nan)\n",
    "#membuat attribut baru baru berupa durasi delivery (dalam hari)\n",
    "df2.insert(9, \"deliveryDuration\", np.nan)"
   ]
  },
  {
   "cell_type": "code",
   "execution_count": 12,
   "id": "56f9bbd0",
   "metadata": {},
   "outputs": [],
   "source": [
    "#proses mengisi tanggal order yang sudah dipisah\n",
    "from datetime import timedelta\n",
    "df2[\"orderYear\"] = df2[\"orderDate\"].dt.year\n",
    "df2[\"orderMonth\"] = df2[\"orderDate\"].dt.month\n",
    "df2[\"orderDated\"] = df2[\"orderDate\"].dt.day\n",
    "#proses mengisi deliveryDuration untuk baris yang deliveryDate dan orderDatenya bukan NaN\n",
    "df2.loc[(df2[\"deliveryDate\"].notna()), \"deliveryDuration\"] = (df2[\"deliveryDate\"]- df2[\"orderDate\"]) / np.timedelta64(1, 'D')\n",
    "#proses mengisi deliveryDuration yang NaN dengan median yang tidak NaN\n",
    "median_duration = df2[\"deliveryDuration\"].median()\n",
    "df2.loc[(df2[\"deliveryDate\"].isna()), \"deliveryDuration\"] = median_duration\n",
    "\n",
    "df2.loc[(df2[\"deliveryDate\"].isna()), \"deliveryDate\"] = df2[\"orderDate\"].loc[(df2[\"deliveryDate\"].isna())] + timedelta(days=median_duration)\n",
    "#proses mengisi tanggal delivery yang sudah dipisah\n",
    "df2[\"deliveryYear\"] = df2[\"deliveryDate\"].dt.year\n",
    "df2[\"deliveryMonth\"] = df2[\"deliveryDate\"].dt.month\n",
    "df2[\"deliveryDated\"] = df2[\"deliveryDate\"].dt.day"
   ]
  },
  {
   "cell_type": "code",
   "execution_count": 13,
   "id": "cd44ff23",
   "metadata": {},
   "outputs": [],
   "source": [
    "df2[\"orderYear\"] = df2[\"orderYear\"].astype('float')\n",
    "df2[\"orderMonth\"] = df2[\"orderMonth\"].astype('float')\n",
    "df2[\"orderDated\"] = df2[\"orderDated\"].astype('float')\n",
    "\n",
    "df2[\"deliveryYear\"] = df2[\"deliveryYear\"].astype('float')\n",
    "df2[\"deliveryMonth\"] = df2[\"deliveryMonth\"].astype('float')\n",
    "df2[\"deliveryDated\"] = df2[\"deliveryDated\"].astype('float')\n",
    "\n",
    "df2[\"deliveryDuration\"] = df2[\"deliveryDuration\"].astype('float')"
   ]
  },
  {
   "cell_type": "code",
   "execution_count": 14,
   "id": "20f481b3",
   "metadata": {},
   "outputs": [
    {
     "data": {
      "text/plain": [
       "<AxesSubplot:xlabel='deliveryDuration', ylabel='Count'>"
      ]
     },
     "execution_count": 14,
     "metadata": {},
     "output_type": "execute_result"
    },
    {
     "data": {
      "image/png": "[encoded data removed]",
      "text/plain": [
       "<Figure size 1080x720 with 1 Axes>"
      ]
     },
     "metadata": {
      "needs_background": "light"
     },
     "output_type": "display_data"
    }
   ],
   "source": [
    "fig, ax = plt.subplots(figsize = (15,10))\n",
    "sns.histplot(ax=ax, data=df2, x='deliveryDuration')"
   ]
  },
  {
   "cell_type": "code",
   "execution_count": 15,
   "id": "ddad8de5",
   "metadata": {},
   "outputs": [
    {
     "data": {
      "text/plain": [
       "<AxesSubplot:xlabel='deliveryDuration'>"
      ]
     },
     "execution_count": 15,
     "metadata": {},
     "output_type": "execute_result"
    },
    {
     "data": {
      "image/png": "[encoded data removed]",
      "text/plain": [
       "<Figure size 1440x720 with 1 Axes>"
      ]
     },
     "metadata": {
      "needs_background": "light"
     },
     "output_type": "display_data"
    }
   ],
   "source": [
    "fig, ax = plt.subplots(figsize = (20,10))\n",
    "sns.boxplot(ax=ax, x=\"deliveryDuration\", data=df2)"
   ]
  },
  {
   "cell_type": "code",
   "execution_count": 16,
   "id": "0ab7e45d",
   "metadata": {},
   "outputs": [
    {
     "data": {
      "text/plain": [
       "<AxesSubplot:xlabel='orderMonth', ylabel='count'>"
      ]
     },
     "execution_count": 16,
     "metadata": {},
     "output_type": "execute_result"
    },
    {
     "data": {
      "image/png": "[encoded data removed]",
      "text/plain": [
       "<Figure size 1440x720 with 1 Axes>"
      ]
     },
     "metadata": {
      "needs_background": "light"
     },
     "output_type": "display_data"
    }
   ],
   "source": [
    "fig, ax = plt.subplots(figsize = (20,10))\n",
    "sns.countplot(ax=ax, x=df2['orderMonth'], hue='returnShipment', data=df2)"
   ]
  },
  {
   "cell_type": "markdown",
   "id": "3a25799b",
   "metadata": {},
   "source": [
    "Dalam grafik orderDate per-bulan diatas terdapat frekuensi order yang tinggi di bulan 1 (Januari) dan bulan 3 (Maret). Tingginya frekuins pada bulan 1 dapat menandakan bahwa setelah tahun baru terdapat peningkatan order yang drastis. Lalu ada peningkatan lagi di bulan 3 yang merupakan awal dari musim semi."
   ]
  },
  {
   "cell_type": "code",
   "execution_count": 17,
   "id": "46112b02",
   "metadata": {},
   "outputs": [
    {
     "data": {
      "text/plain": [
       "<AxesSubplot:xlabel='orderDate', ylabel='count'>"
      ]
     },
     "execution_count": 17,
     "metadata": {},
     "output_type": "execute_result"
    },
    {
     "data": {
      "image/png": "[encoded data removed]",
      "text/plain": [
       "<Figure size 1440x720 with 1 Axes>"
      ]
     },
     "metadata": {
      "needs_background": "light"
     },
     "output_type": "display_data"
    }
   ],
   "source": [
    "fig, ax = plt.subplots(figsize = (20,10))\n",
    "sns.countplot(ax=ax, x=df2['orderDate'].dt.day, hue='returnShipment', data=df2)"
   ]
  },
  {
   "cell_type": "markdown",
   "id": "63fc964b",
   "metadata": {},
   "source": [
    "Dalam grafik orderDate per-hari diatas terdapat penurunan jumlah order yang signifikan dari tanggal 28 hingga tanggal 31. Hal ini dapat disebabkan oleh jumlah tanggal pada bulan Februari yang hanya sampai 28 dan tidak semua bulan memiliki 31 hari.\n",
    "\n",
    "Terdapat satu instance dimana jumlah pengembalian lebih banyak dari yang tidak mengembalikan di tanggal 15."
   ]
  },
  {
   "cell_type": "code",
   "execution_count": 18,
   "id": "4b3e99a0",
   "metadata": {},
   "outputs": [
    {
     "name": "stdout",
     "output_type": "stream",
     "text": [
      "<class 'pandas.core.frame.DataFrame'>\n",
      "RangeIndex: 481092 entries, 0 to 481091\n",
      "Data columns (total 21 columns):\n",
      " #   Column            Non-Null Count   Dtype         \n",
      "---  ------            --------------   -----         \n",
      " 0   orderItemID       481092 non-null  int64         \n",
      " 1   orderDate         481092 non-null  datetime64[ns]\n",
      " 2   orderYear         481092 non-null  float64       \n",
      " 3   orderMonth        481092 non-null  float64       \n",
      " 4   orderDated        481092 non-null  float64       \n",
      " 5   deliveryDate      481092 non-null  datetime64[ns]\n",
      " 6   deliveryYear      481092 non-null  float64       \n",
      " 7   deliveryMonth     481092 non-null  float64       \n",
      " 8   deliveryDated     481092 non-null  float64       \n",
      " 9   deliveryDuration  481092 non-null  float64       \n",
      " 10  itemID            481092 non-null  int64         \n",
      " 11  size              481092 non-null  object        \n",
      " 12  color             480949 non-null  object        \n",
      " 13  manufacturerID    481092 non-null  int64         \n",
      " 14  price             481092 non-null  float64       \n",
      " 15  customerID        481092 non-null  int64         \n",
      " 16  salutation        481092 non-null  object        \n",
      " 17  dateOfBirth       432200 non-null  datetime64[ns]\n",
      " 18  state             481092 non-null  object        \n",
      " 19  creationDate      481092 non-null  datetime64[ns]\n",
      " 20  returnShipment    481092 non-null  int64         \n",
      "dtypes: datetime64[ns](4), float64(8), int64(5), object(4)\n",
      "memory usage: 77.1+ MB\n"
     ]
    }
   ],
   "source": [
    "df2.info()"
   ]
  },
  {
   "cell_type": "markdown",
   "id": "56a7b256",
   "metadata": {},
   "source": [
    "# praproses size"
   ]
  },
  {
   "cell_type": "code",
   "execution_count": 19,
   "id": "f8ab6071",
   "metadata": {},
   "outputs": [],
   "source": [
    "#mengganti data size yang hurufnya kecil menjadi huruf kapital agar seragam\n",
    "df2.loc[(df2[\"size\"] == \"s\"), \"size\"] = \"S\"\n",
    "df2.loc[(df2[\"size\"] == \"m\"), \"size\"] = \"M\"\n",
    "df2.loc[(df2[\"size\"] == \"l\"), \"size\"] = \"L\"\n",
    "df2.loc[(df2[\"size\"] == \"xl\"), \"size\"] = \"XL\"\n",
    "df2.loc[(df2[\"size\"] == \"xs\"), \"size\"] = \"XS\"\n",
    "df2.loc[(df2[\"size\"] == \"xxl\"), \"size\"] = \"XXL\"\n",
    "df2.loc[(df2[\"size\"] == \"xxxl\"), \"size\"] = \"XXXL\""
   ]
  },
  {
   "cell_type": "code",
   "execution_count": 20,
   "id": "0f591d98",
   "metadata": {},
   "outputs": [],
   "source": [
    "#mengganti data size yang belakangnya terdapat tanda '+' dengan huruf untuk mengurangi variasi data\n",
    "df2.loc[(df2[\"size\"] == \"9+\"), \"size\"] = \"M\"\n",
    "df2.loc[(df2[\"size\"] == \"10+\"), \"size\"] = \"L\"\n",
    "df2.loc[(df2[\"size\"] == \"8+\"), \"size\"] = \"M\"\n",
    "df2.loc[(df2[\"size\"] == \"42+\"), \"size\"] = \"L\"\n",
    "df2.loc[(df2[\"size\"] == \"4+\"), \"size\"] = \"XS\"\n",
    "df2.loc[(df2[\"size\"] == \"6+\"), \"size\"] = \"S\"\n",
    "df2.loc[(df2[\"size\"] == \"7+\"), \"size\"] = \"S\"\n",
    "df2.loc[(df2[\"size\"] == \"36+\"), \"size\"] = \"XS\"\n",
    "df2.loc[(df2[\"size\"] == \"39+\"), \"size\"] = \"S\"\n",
    "df2.loc[(df2[\"size\"] == \"40+\"), \"size\"] = \"M\"\n",
    "df2.loc[(df2[\"size\"] == \"5+\"), \"size\"] = \"XS\"\n",
    "df2.loc[(df2[\"size\"] == \"38+\"), \"size\"] = \"S\"\n",
    "df2.loc[(df2[\"size\"] == \"11+\"), \"size\"] = \"L\"\n",
    "df2.loc[(df2[\"size\"] == \"37+\"), \"size\"] = \"XS\"\n",
    "df2.loc[(df2[\"size\"] == \"41+\"), \"size\"] = \"M\"\n",
    "df2.loc[(df2[\"size\"] == \"3+\"), \"size\"] = \"XXS\"\n",
    "df2.loc[(df2[\"size\"] == \"44+\"), \"size\"] = \"XL\"\n",
    "df2.loc[(df2[\"size\"] == \"43+\"), \"size\"] = \"L\"\n",
    "df2.loc[(df2[\"size\"] == \"13+\"), \"size\"] = \"XL\"\n",
    "df2.loc[(df2[\"size\"] == \"45+\"), \"size\"] = \"XL\"\n",
    "df2.loc[(df2[\"size\"] == \"46+\"), \"size\"] = \"XXL\"\n",
    "df2.loc[(df2[\"size\"] == \"2+\"), \"size\"] = \"XXS\"\n",
    "df2.loc[(df2[\"size\"] == \"12+\"), \"size\"] = \"XL\""
   ]
  },
  {
   "cell_type": "code",
   "execution_count": 21,
   "id": "f8cbbf73",
   "metadata": {},
   "outputs": [],
   "source": [
    "#mengganti huruf menjadi angka pada atribut size untuk mengubah tipe datanya\n",
    "df2.loc[(df2[\"size\"] == \"S\"), \"size\"] = \"38\"\n",
    "df2.loc[(df2[\"size\"] == \"M\"), \"size\"] = \"40\"\n",
    "df2.loc[(df2[\"size\"] == \"L\"), \"size\"] = \"42\"\n",
    "df2.loc[(df2[\"size\"] == \"XL\"), \"size\"] = \"44\"\n",
    "df2.loc[(df2[\"size\"] == \"XS\"), \"size\"] = \"36\"\n",
    "df2.loc[(df2[\"size\"] == \"XXS\"), \"size\"] = \"34\"\n",
    "df2.loc[(df2[\"size\"] == \"XXL\"), \"size\"] = \"46\"\n",
    "df2.loc[(df2[\"size\"] == \"XXXL\"), \"size\"] = \"48\"\n",
    "df2.loc[(df2[\"size\"] == \"unsized\"), \"size\"] = \"0\""
   ]
  },
  {
   "cell_type": "code",
   "execution_count": 22,
   "id": "211c0b82",
   "metadata": {},
   "outputs": [],
   "source": [
    "#mengganti tipe data size menjadi integer\n",
    "df2[\"size\"] = df2[\"size\"].astype(\"int64\")\n",
    "#membuat kolom baru bertipe object untuk menampung data hasil perubahan dari atribut size\n",
    "df2.insert(5,\"realsize\", \"-\")"
   ]
  },
  {
   "cell_type": "code",
   "execution_count": 23,
   "id": "39a808aa",
   "metadata": {},
   "outputs": [],
   "source": [
    "#mengganti angka menjadi huruf berdasarkan ukuran baju US\n",
    "df2.loc[(df2[\"size\"] >= 1) & (df2[\"size\"] <= 3), \"realsize\"] = \"XXS\"\n",
    "df2.loc[(df2[\"size\"] >= 4) & (df2[\"size\"] <= 5), \"realsize\"] = \"XS\"\n",
    "df2.loc[(df2[\"size\"] >= 6) & (df2[\"size\"] <= 7), \"realsize\"] = \"S\"\n",
    "df2.loc[(df2[\"size\"] >= 8) & (df2[\"size\"] <= 9), \"realsize\"] = \"M\"\n",
    "df2.loc[(df2[\"size\"] >= 10) & (df2[\"size\"] <= 11), \"realsize\"] = \"L\"\n",
    "df2.loc[(df2[\"size\"] >= 12) & (df2[\"size\"] <= 13), \"realsize\"] = \"XL\"\n",
    "df2.loc[(df2[\"size\"] >= 14) & (df2[\"size\"] <= 15), \"realsize\"] = \"XXL\"\n",
    "df2.loc[(df2[\"size\"] >= 16) & (df2[\"size\"] <= 17), \"realsize\"] = \"XXXL\""
   ]
  },
  {
   "cell_type": "code",
   "execution_count": 24,
   "id": "adfd7535",
   "metadata": {},
   "outputs": [],
   "source": [
    "#mengganti angka menjadi huruf berdasarkan ukuran baju Eropa\n",
    "df2.loc[(df2[\"size\"] >= 18) & (df2[\"size\"] <= 35), \"realsize\"] = \"XXS\"\n",
    "df2.loc[(df2[\"size\"] >= 36) & (df2[\"size\"] <= 37), \"realsize\"] = \"XS\"\n",
    "df2.loc[(df2[\"size\"] >= 38) & (df2[\"size\"] <= 39), \"realsize\"] = \"S\"\n",
    "df2.loc[(df2[\"size\"] >= 40) & (df2[\"size\"] <= 41), \"realsize\"] = \"M\"\n",
    "df2.loc[(df2[\"size\"] >= 42) & (df2[\"size\"] <= 43), \"realsize\"] = \"L\"\n",
    "df2.loc[(df2[\"size\"] >= 44) & (df2[\"size\"] <= 45), \"realsize\"] = \"XL\"\n",
    "df2.loc[(df2[\"size\"] >= 46) & (df2[\"size\"] <= 47), \"realsize\"] = \"XXL\"\n",
    "df2.loc[(df2[\"size\"] >= 48), \"realsize\"] = \"XXXL\""
   ]
  },
  {
   "cell_type": "code",
   "execution_count": 25,
   "id": "90fb0e25",
   "metadata": {},
   "outputs": [],
   "source": [
    "#mengubah data pada size yang 0 menjadi unsized\n",
    "df2.loc[(df2[\"size\"] == 0), \"realsize\"] = \"unsized\""
   ]
  },
  {
   "cell_type": "code",
   "execution_count": 26,
   "id": "9405151a",
   "metadata": {},
   "outputs": [],
   "source": [
    "#menghapus kolom size\n",
    "df2 = df2.drop(['size'],axis=1)"
   ]
  },
  {
   "cell_type": "code",
   "execution_count": 27,
   "id": "3da7d3bf",
   "metadata": {},
   "outputs": [],
   "source": [
    "#mengganti nama kolom realsize menjadi size\n",
    "df2.rename(columns = {'realsize':'size'}, inplace = True)"
   ]
  },
  {
   "cell_type": "code",
   "execution_count": 28,
   "id": "11ceb93e",
   "metadata": {},
   "outputs": [
    {
     "data": {
      "text/plain": [
       "M          116780\n",
       "L           96052\n",
       "S           84923\n",
       "XL          69884\n",
       "XXL         52434\n",
       "unsized     26039\n",
       "XS          19190\n",
       "XXS          8514\n",
       "XXXL         7276\n",
       "Name: size, dtype: int64"
      ]
     },
     "execution_count": 28,
     "metadata": {},
     "output_type": "execute_result"
    }
   ],
   "source": [
    "df2[\"size\"].value_counts(dropna = False)"
   ]
  },
  {
   "cell_type": "code",
   "execution_count": 29,
   "id": "5cd043b1",
   "metadata": {},
   "outputs": [
    {
     "data": {
      "text/plain": [
       "orderItemID             0\n",
       "orderDate               0\n",
       "orderYear               0\n",
       "orderMonth              0\n",
       "orderDated              0\n",
       "size                    0\n",
       "deliveryDate            0\n",
       "deliveryYear            0\n",
       "deliveryMonth           0\n",
       "deliveryDated           0\n",
       "deliveryDuration        0\n",
       "itemID                  0\n",
       "color                 143\n",
       "manufacturerID          0\n",
       "price                   0\n",
       "customerID              0\n",
       "salutation              0\n",
       "dateOfBirth         48892\n",
       "state                   0\n",
       "creationDate            0\n",
       "returnShipment          0\n",
       "dtype: int64"
      ]
     },
     "execution_count": 29,
     "metadata": {},
     "output_type": "execute_result"
    }
   ],
   "source": [
    "df2.isna().sum()"
   ]
  },
  {
   "cell_type": "markdown",
   "id": "e3f7c7ce",
   "metadata": {},
   "source": [
    "# praproses color"
   ]
  },
  {
   "cell_type": "code",
   "execution_count": 30,
   "id": "2fccf572",
   "metadata": {},
   "outputs": [],
   "source": [
    "#Proses Smoothing warna menjadi hanya warna primer, sekunder, dan netral\n",
    "df2[\"color\"] = df2[\"color\"].replace('basalt', 'black')\n",
    "df2[\"color\"] = df2[\"color\"].replace('ebony', 'black')\n",
    "df2[\"color\"] = df2[\"color\"].replace('aqua', 'blue')\n",
    "df2[\"color\"] = df2[\"color\"].replace('azure', 'blue')\n",
    "df2[\"color\"] = df2[\"color\"].replace('blau', 'blue')\n",
    "df2[\"color\"] = df2[\"color\"].replace('baltic blue', 'blue')\n",
    "df2[\"color\"] = df2[\"color\"].replace('cobalt blue', 'blue')\n",
    "df2[\"color\"] = df2[\"color\"].replace('dark denim', 'blue')\n",
    "df2[\"color\"] = df2[\"color\"].replace('dark navy', 'blue')\n",
    "df2[\"color\"] = df2[\"color\"].replace('darkblue', 'blue')\n",
    "df2[\"color\"] = df2[\"color\"].replace('denim', 'blue')\n",
    "df2[\"color\"] = df2[\"color\"].replace('navy', 'blue')\n",
    "df2[\"color\"] = df2[\"color\"].replace('petrol', 'blue')\n",
    "df2[\"color\"] = df2[\"color\"].replace('almond', 'brown')\n",
    "df2[\"color\"] = df2[\"color\"].replace('bronze', 'brown')\n",
    "df2[\"color\"] = df2[\"color\"].replace('brwon', 'brown')\n",
    "df2[\"color\"] = df2[\"color\"].replace('caramel', 'brown')\n",
    "df2[\"color\"] = df2[\"color\"].replace('cognac', 'brown')\n",
    "df2[\"color\"] = df2[\"color\"].replace('copper coin', 'brown')\n",
    "df2[\"color\"] = df2[\"color\"].replace('cortina mocca', 'brown')\n",
    "df2[\"color\"] = df2[\"color\"].replace('khaki', 'brown')\n",
    "df2[\"color\"] = df2[\"color\"].replace('mahagoni', 'brown')\n",
    "df2[\"color\"] = df2[\"color\"].replace('mocca', 'brown')\n",
    "df2[\"color\"] = df2[\"color\"].replace('ocher', 'brown')\n",
    "df2[\"color\"] = df2[\"color\"].replace('terracotta', 'brown')\n",
    "df2[\"color\"] = df2[\"color\"].replace('aquamarine', 'green')\n",
    "df2[\"color\"] = df2[\"color\"].replace('avocado', 'green')\n",
    "df2[\"color\"] = df2[\"color\"].replace('dark oliv', 'green')\n",
    "df2[\"color\"] = df2[\"color\"].replace('jade', 'green')\n",
    "df2[\"color\"] = df2[\"color\"].replace('mint', 'green')\n",
    "df2[\"color\"] = df2[\"color\"].replace('oliv', 'green')\n",
    "df2[\"color\"] = df2[\"color\"].replace('olive', 'green')\n",
    "df2[\"color\"] = df2[\"color\"].replace('turquoise', 'green')\n",
    "df2[\"color\"] = df2[\"color\"].replace('anthracite', 'grey')\n",
    "df2[\"color\"] = df2[\"color\"].replace('ash', 'grey')\n",
    "df2[\"color\"] = df2[\"color\"].replace('dark grey', 'grey')\n",
    "df2[\"color\"] = df2[\"color\"].replace('graphite', 'grey')\n",
    "df2[\"color\"] = df2[\"color\"].replace('iron', 'grey')\n",
    "df2[\"color\"] = df2[\"color\"].replace('apricot', 'orange')\n",
    "df2[\"color\"] = df2[\"color\"].replace('coral', 'orange')\n",
    "df2[\"color\"] = df2[\"color\"].replace('mango', 'orange')\n",
    "df2[\"color\"] = df2[\"color\"].replace('antique pink', 'pink')\n",
    "df2[\"color\"] = df2[\"color\"].replace('fuchsia', 'pink')\n",
    "df2[\"color\"] = df2[\"color\"].replace('magenta', 'pink')\n",
    "df2[\"color\"] = df2[\"color\"].replace('amethyst', 'purple')\n",
    "df2[\"color\"] = df2[\"color\"].replace('aubergine', 'purple')\n",
    "df2[\"color\"] = df2[\"color\"].replace('berry', 'purple')\n",
    "df2[\"color\"] = df2[\"color\"].replace('currant purple', 'purple')\n",
    "df2[\"color\"] = df2[\"color\"].replace('hibiscus', 'purple')\n",
    "df2[\"color\"] = df2[\"color\"].replace('bordeaux', 'red')\n",
    "df2[\"color\"] = df2[\"color\"].replace('crimson', 'red')\n",
    "df2[\"color\"] = df2[\"color\"].replace('dark garnet', 'red')\n",
    "df2[\"color\"] = df2[\"color\"].replace('beige', 'white')\n",
    "df2[\"color\"] = df2[\"color\"].replace('champagner', 'white')\n",
    "df2[\"color\"] = df2[\"color\"].replace('ecru', 'white')\n",
    "df2[\"color\"] = df2[\"color\"].replace('ivory', 'white')\n",
    "df2[\"color\"] = df2[\"color\"].replace('silver', 'white')\n",
    "df2[\"color\"] = df2[\"color\"].replace('vanille', 'white')\n",
    "df2[\"color\"] = df2[\"color\"].replace('creme', 'yellow')\n",
    "df2[\"color\"] = df2[\"color\"].replace('curry', 'yellow')\n",
    "df2[\"color\"] = df2[\"color\"].replace('gold', 'yellow')\n",
    "df2[\"color\"] = df2[\"color\"].replace('ingwer', 'yellow')\n",
    "df2[\"color\"] = df2[\"color\"].replace('lemon', 'yellow')\n",
    "#Proses smoothing untuk warna yang merupakan sebuah pola dan atau memiliki lebih dari 1 warna dasar\n",
    "df2[\"color\"] = df2[\"color\"].replace('leopard', 'other')\n",
    "df2[\"color\"] = df2[\"color\"].replace('perlmutt', 'other')\n",
    "df2[\"color\"] = df2[\"color\"].replace('curled', 'other')\n",
    "df2[\"color\"] = df2[\"color\"].replace('aviator', 'other')\n",
    "df2[\"color\"] = df2[\"color\"].replace('opal', 'other')\n",
    "df2[\"color\"] = df2[\"color\"].replace('kanel', 'other')\n",
    "df2[\"color\"] = df2[\"color\"].replace('striped', 'other')\n",
    "df2[\"color\"] = df2[\"color\"].replace('floral', 'other')\n",
    "df2[\"color\"] = df2[\"color\"].replace('stained', 'other')\n",
    "df2[\"color\"] = df2[\"color\"].replace('ancient', 'other')\n",
    "df2[\"color\"] = df2[\"color\"].replace('pallid', 'other')\n",
    "df2[\"color\"] = df2[\"color\"].replace('nature', 'other')\n",
    "df2[\"color\"] = df2[\"color\"].replace('habana', 'other')"
   ]
  },
  {
   "cell_type": "code",
   "execution_count": 31,
   "id": "9b740b96",
   "metadata": {},
   "outputs": [],
   "source": [
    "#Proses mengisi entry yang NaN menjadi \"unspecified\"\n",
    "df2.loc[(df2[\"color\"].isna()), \"color\"] = \"unspecified\""
   ]
  },
  {
   "cell_type": "code",
   "execution_count": 32,
   "id": "85a4f5ba",
   "metadata": {},
   "outputs": [
    {
     "data": {
      "text/plain": [
       "orderItemID             0\n",
       "orderDate               0\n",
       "orderYear               0\n",
       "orderMonth              0\n",
       "orderDated              0\n",
       "size                    0\n",
       "deliveryDate            0\n",
       "deliveryYear            0\n",
       "deliveryMonth           0\n",
       "deliveryDated           0\n",
       "deliveryDuration        0\n",
       "itemID                  0\n",
       "color                   0\n",
       "manufacturerID          0\n",
       "price                   0\n",
       "customerID              0\n",
       "salutation              0\n",
       "dateOfBirth         48892\n",
       "state                   0\n",
       "creationDate            0\n",
       "returnShipment          0\n",
       "dtype: int64"
      ]
     },
     "execution_count": 32,
     "metadata": {},
     "output_type": "execute_result"
    }
   ],
   "source": [
    "df2.isna().sum()"
   ]
  },
  {
   "cell_type": "code",
   "execution_count": 33,
   "id": "4d062bee",
   "metadata": {},
   "outputs": [
    {
     "data": {
      "text/plain": [
       "Mrs             461769\n",
       "Mr               16720\n",
       "Family            1891\n",
       "Company            361\n",
       "not reported       351\n",
       "Name: salutation, dtype: int64"
      ]
     },
     "execution_count": 33,
     "metadata": {},
     "output_type": "execute_result"
    }
   ],
   "source": [
    "df2['salutation'].value_counts(dropna=False)"
   ]
  },
  {
   "cell_type": "markdown",
   "id": "1e4c2c3a",
   "metadata": {},
   "source": [
    "# praproses salutation"
   ]
  },
  {
   "cell_type": "code",
   "execution_count": 34,
   "id": "8e7ca5e1",
   "metadata": {},
   "outputs": [
    {
     "data": {
      "text/plain": [
       "<AxesSubplot:xlabel='salutation', ylabel='count'>"
      ]
     },
     "execution_count": 34,
     "metadata": {},
     "output_type": "execute_result"
    },
    {
     "data": {
      "image/png": "[encoded data removed]",
      "text/plain": [
       "<Figure size 1440x720 with 1 Axes>"
      ]
     },
     "metadata": {
      "needs_background": "light"
     },
     "output_type": "display_data"
    }
   ],
   "source": [
    "fig, ax = plt.subplots(figsize = (20,10))\n",
    "sns.countplot(ax=ax, x=\"salutation\", hue='returnShipment', data=df2)"
   ]
  },
  {
   "cell_type": "markdown",
   "id": "f2502be2",
   "metadata": {},
   "source": [
    "Terdapat kesenjangan jumlah data di attribut salutation, jumlah entry 'Mrs' membuat entry lainnya terlihat hampir tidak ada"
   ]
  },
  {
   "cell_type": "code",
   "execution_count": 35,
   "id": "52de6406",
   "metadata": {},
   "outputs": [
    {
     "data": {
      "text/plain": [
       "<AxesSubplot:xlabel='salutation', ylabel='count'>"
      ]
     },
     "execution_count": 35,
     "metadata": {},
     "output_type": "execute_result"
    },
    {
     "data": {
      "image/png": "[encoded data removed]",
      "text/plain": [
       "<Figure size 1440x720 with 1 Axes>"
      ]
     },
     "metadata": {
      "needs_background": "light"
     },
     "output_type": "display_data"
    }
   ],
   "source": [
    "fig, ax = plt.subplots(figsize = (20,10))\n",
    "sns.countplot(ax=ax, x=df2[\"salutation\"].loc[(df2[\"salutation\"] != \"Mrs\")], hue='returnShipment', data=df2)"
   ]
  },
  {
   "cell_type": "markdown",
   "id": "3927dec5",
   "metadata": {},
   "source": [
    "Jika dibandingkan dengan salutation 'Mr', 'family', 'not reported', dan 'Company' masih terlihat sangat sedikit. Entry yang bukan 'Mr' dan 'Mrs' dikelompokkan menjadi 'Other' karna jumlahnya yang sedikit dan agar lebih terfokus ke gendered 'salutation'."
   ]
  },
  {
   "cell_type": "code",
   "execution_count": 36,
   "id": "796f0c13",
   "metadata": {},
   "outputs": [],
   "source": [
    "df2['salutation'] = df2['salutation'].replace('Family', 'Other')\n",
    "df2['salutation'] = df2['salutation'].replace('Company', 'Other')\n",
    "df2['salutation'] = df2['salutation'].replace('not reported', 'Other')"
   ]
  },
  {
   "cell_type": "markdown",
   "id": "da8b040e",
   "metadata": {},
   "source": [
    "# praproses dateOfBirth"
   ]
  },
  {
   "cell_type": "code",
   "execution_count": 37,
   "id": "0fc7f287",
   "metadata": {},
   "outputs": [],
   "source": [
    "df2.insert(19, \"customerAge\", np.nan)"
   ]
  },
  {
   "cell_type": "code",
   "execution_count": 38,
   "id": "5104f455",
   "metadata": {},
   "outputs": [],
   "source": [
    "df2[\"customerAge\"] = df2[\"deliveryYear\"].max() - df2[\"dateOfBirth\"].dt.year"
   ]
  },
  {
   "cell_type": "code",
   "execution_count": 39,
   "id": "433521ec",
   "metadata": {},
   "outputs": [
    {
     "data": {
      "text/plain": [
       "<AxesSubplot:xlabel='customerAge', ylabel='Count'>"
      ]
     },
     "execution_count": 39,
     "metadata": {},
     "output_type": "execute_result"
    },
    {
     "data": {
      "image/png": "[encoded data removed]",
      "text/plain": [
       "<Figure size 1080x720 with 1 Axes>"
      ]
     },
     "metadata": {
      "needs_background": "light"
     },
     "output_type": "display_data"
    }
   ],
   "source": [
    "fig, ax = plt.subplots(figsize = (15,10))\n",
    "sns.histplot(ax=ax, data=df2, x='customerAge')"
   ]
  },
  {
   "cell_type": "code",
   "execution_count": 40,
   "id": "49c61be0",
   "metadata": {},
   "outputs": [
    {
     "data": {
      "text/plain": [
       "<AxesSubplot:xlabel='customerAge'>"
      ]
     },
     "execution_count": 40,
     "metadata": {},
     "output_type": "execute_result"
    },
    {
     "data": {
      "image/png": "[encoded data removed]",
      "text/plain": [
       "<Figure size 1440x720 with 1 Axes>"
      ]
     },
     "metadata": {
      "needs_background": "light"
     },
     "output_type": "display_data"
    }
   ],
   "source": [
    "fig, ax = plt.subplots(figsize = (20,10))\n",
    "sns.boxplot(ax=ax, x=\"customerAge\", data=df2)"
   ]
  },
  {
   "cell_type": "code",
   "execution_count": 41,
   "id": "c1b51749",
   "metadata": {},
   "outputs": [
    {
     "data": {
      "text/plain": [
       "count    432200.000000\n",
       "mean         49.218061\n",
       "std          11.065563\n",
       "min           0.000000\n",
       "25%          43.000000\n",
       "50%          48.000000\n",
       "75%          54.000000\n",
       "max         113.000000\n",
       "Name: customerAge, dtype: float64"
      ]
     },
     "execution_count": 41,
     "metadata": {},
     "output_type": "execute_result"
    }
   ],
   "source": [
    "df2[\"customerAge\"].describe()"
   ]
  },
  {
   "cell_type": "code",
   "execution_count": 42,
   "id": "04fbecfa",
   "metadata": {},
   "outputs": [
    {
     "data": {
      "text/plain": [
       "48892"
      ]
     },
     "execution_count": 42,
     "metadata": {},
     "output_type": "execute_result"
    }
   ],
   "source": [
    "df2[\"customerAge\"].isna().sum()"
   ]
  },
  {
   "cell_type": "markdown",
   "id": "e607c93b",
   "metadata": {},
   "source": [
    "### Mengisi data customerAge yang kosong menggunakan median"
   ]
  },
  {
   "cell_type": "code",
   "execution_count": 43,
   "id": "2c0cbce6",
   "metadata": {},
   "outputs": [],
   "source": [
    "df2.loc[(df2[\"customerAge\"].isna()), \"customerAge\"] = df2[\"customerAge\"].median()"
   ]
  },
  {
   "cell_type": "markdown",
   "id": "b412e5bc",
   "metadata": {},
   "source": [
    "## deteksi outlier"
   ]
  },
  {
   "cell_type": "markdown",
   "id": "247fd006",
   "metadata": {},
   "source": [
    "IQR = 53 - 44 \n",
    "\n",
    "Batas atas = 53 + 1.5(11) \n",
    "\n",
    "\n",
    "Batas bawah = 44 - 1.5(11)\n",
    "\n",
    "Batas atas = 69.5\n",
    "\n",
    "Batas bawah = 27.5"
   ]
  },
  {
   "cell_type": "code",
   "execution_count": 44,
   "id": "78367b53",
   "metadata": {},
   "outputs": [],
   "source": [
    "upper_bound = 69\n",
    "lower_bound = 27"
   ]
  },
  {
   "cell_type": "code",
   "execution_count": 45,
   "id": "dbc9a54f",
   "metadata": {},
   "outputs": [
    {
     "data": {
      "text/plain": [
       "<AxesSubplot:xlabel='customerAge', ylabel='count'>"
      ]
     },
     "execution_count": 45,
     "metadata": {},
     "output_type": "execute_result"
    },
    {
     "data": {
      "image/png": "[encoded data removed]",
      "text/plain": [
       "<Figure size 1440x720 with 1 Axes>"
      ]
     },
     "metadata": {
      "needs_background": "light"
     },
     "output_type": "display_data"
    }
   ],
   "source": [
    "fig, ax = plt.subplots(figsize = (20,10))\n",
    "sns.countplot(ax=ax, x=\"customerAge\", data=df2)"
   ]
  },
  {
   "cell_type": "markdown",
   "id": "05e1a225",
   "metadata": {},
   "source": [
    "Berdasarkan countplot diatas terdapat outlier yang tampak alamiah dan outlier yang tidak alamiah seperti pada data umur 0 dan umur 112. Untuk menangani outlier tidak alamiah, yang berada di bawah batas umur penggunaan akun google (13 tahun) akan diubah menjadi nilai lower_bound, dan yang berada di atas angka harapan hidup negara Jerman di tahun 2013 (80 tahun) akan diubah menjadi nilai upper_bound."
   ]
  },
  {
   "cell_type": "code",
   "execution_count": 46,
   "id": "7e153825",
   "metadata": {},
   "outputs": [],
   "source": [
    "#proses penanganan outlier diatas 80 tahun\n",
    "df2.loc[((df2.customerAge > 80)), \"customerAge\"] = upper_bound\n",
    "\n",
    "#proses penanganan outlier dibawah 13 tahun\n",
    "df2.loc[((df2.customerAge < 13)), \"customerAge\"] = lower_bound"
   ]
  },
  {
   "cell_type": "markdown",
   "id": "ac8b7871",
   "metadata": {},
   "source": [
    "# praproses creationDate"
   ]
  },
  {
   "cell_type": "code",
   "execution_count": 47,
   "id": "b1c5d079",
   "metadata": {},
   "outputs": [],
   "source": [
    "df2.insert(21, \"accountAgeMonth\", np.nan)"
   ]
  },
  {
   "cell_type": "code",
   "execution_count": 48,
   "id": "34f1cf14",
   "metadata": {},
   "outputs": [],
   "source": [
    "df2[\"accountAgeMonth\"] = ((df2[\"deliveryDate\"].max() - df2[\"creationDate\"]) / np.timedelta64(1, 'M')).round()"
   ]
  },
  {
   "cell_type": "code",
   "execution_count": 49,
   "id": "3359390a",
   "metadata": {},
   "outputs": [
    {
     "data": {
      "text/plain": [
       "<AxesSubplot:xlabel='accountAgeMonth', ylabel='count'>"
      ]
     },
     "execution_count": 49,
     "metadata": {},
     "output_type": "execute_result"
    },
    {
     "data": {
      "image/png": "[encoded data removed]",
      "text/plain": [
       "<Figure size 1440x720 with 1 Axes>"
      ]
     },
     "metadata": {
      "needs_background": "light"
     },
     "output_type": "display_data"
    }
   ],
   "source": [
    "fig, ax = plt.subplots(figsize = (20,10))\n",
    "sns.countplot(ax=ax, x=\"accountAgeMonth\", hue=\"returnShipment\", data=df2)"
   ]
  },
  {
   "cell_type": "code",
   "execution_count": 50,
   "id": "f62fd636",
   "metadata": {},
   "outputs": [
    {
     "data": {
      "text/plain": [
       "29.0    147592\n",
       "15.0     31495\n",
       "14.0     24027\n",
       "13.0     23476\n",
       "5.0      21216\n",
       "10.0     20454\n",
       "16.0     17873\n",
       "17.0     17603\n",
       "11.0     17026\n",
       "4.0      15991\n",
       "6.0      15443\n",
       "9.0      14909\n",
       "18.0     14065\n",
       "22.0     11532\n",
       "21.0     10823\n",
       "12.0      9229\n",
       "23.0      9150\n",
       "27.0      8475\n",
       "7.0       8022\n",
       "20.0      7383\n",
       "26.0      7319\n",
       "28.0      7167\n",
       "8.0       7075\n",
       "19.0      5336\n",
       "25.0      5273\n",
       "24.0      3138\n",
       "Name: accountAgeMonth, dtype: int64"
      ]
     },
     "execution_count": 50,
     "metadata": {},
     "output_type": "execute_result"
    }
   ],
   "source": [
    "df2[\"accountAgeMonth\"].value_counts(dropna=False)"
   ]
  },
  {
   "cell_type": "code",
   "execution_count": 51,
   "id": "b71909c6",
   "metadata": {},
   "outputs": [
    {
     "name": "stdout",
     "output_type": "stream",
     "text": [
      "<class 'pandas.core.frame.DataFrame'>\n",
      "RangeIndex: 481092 entries, 0 to 481091\n",
      "Data columns (total 23 columns):\n",
      " #   Column            Non-Null Count   Dtype         \n",
      "---  ------            --------------   -----         \n",
      " 0   orderItemID       481092 non-null  int64         \n",
      " 1   orderDate         481092 non-null  datetime64[ns]\n",
      " 2   orderYear         481092 non-null  float64       \n",
      " 3   orderMonth        481092 non-null  float64       \n",
      " 4   orderDated        481092 non-null  float64       \n",
      " 5   size              481092 non-null  object        \n",
      " 6   deliveryDate      481092 non-null  datetime64[ns]\n",
      " 7   deliveryYear      481092 non-null  float64       \n",
      " 8   deliveryMonth     481092 non-null  float64       \n",
      " 9   deliveryDated     481092 non-null  float64       \n",
      " 10  deliveryDuration  481092 non-null  float64       \n",
      " 11  itemID            481092 non-null  int64         \n",
      " 12  color             481092 non-null  object        \n",
      " 13  manufacturerID    481092 non-null  int64         \n",
      " 14  price             481092 non-null  float64       \n",
      " 15  customerID        481092 non-null  int64         \n",
      " 16  salutation        481092 non-null  object        \n",
      " 17  dateOfBirth       432200 non-null  datetime64[ns]\n",
      " 18  state             481092 non-null  object        \n",
      " 19  customerAge       481092 non-null  float64       \n",
      " 20  creationDate      481092 non-null  datetime64[ns]\n",
      " 21  accountAgeMonth   481092 non-null  float64       \n",
      " 22  returnShipment    481092 non-null  int64         \n",
      "dtypes: datetime64[ns](4), float64(10), int64(5), object(4)\n",
      "memory usage: 84.4+ MB\n"
     ]
    }
   ],
   "source": [
    "df2.info()"
   ]
  },
  {
   "cell_type": "code",
   "execution_count": 52,
   "id": "d72de938",
   "metadata": {},
   "outputs": [],
   "source": [
    "#proses drop orderDate, deliveryDate, dateOfBirth, dan creationDate karna sudah direpresentasikan dengan attribut-attribut khusus yang sudah dibuat\n",
    "df2 = df2.drop(['orderDate', 'deliveryDate', 'dateOfBirth', 'creationDate'],axis=1)"
   ]
  },
  {
   "cell_type": "code",
   "execution_count": 53,
   "id": "5a4e10f6",
   "metadata": {},
   "outputs": [
    {
     "data": {
      "text/html": [
       "<div>\n",
       "<style scoped>\n",
       "    .dataframe tbody tr th:only-of-type {\n",
       "        vertical-align: middle;\n",
       "    }\n",
       "\n",
       "    .dataframe tbody tr th {\n",
       "        vertical-align: top;\n",
       "    }\n",
       "\n",
       "    .dataframe thead th {\n",
       "        text-align: right;\n",
       "    }\n",
       "</style>\n",
       "<table border=\"1\" class=\"dataframe\">\n",
       "  <thead>\n",
       "    <tr style=\"text-align: right;\">\n",
       "      <th></th>\n",
       "      <th>orderItemID</th>\n",
       "      <th>orderYear</th>\n",
       "      <th>orderMonth</th>\n",
       "      <th>orderDated</th>\n",
       "      <th>size</th>\n",
       "      <th>deliveryYear</th>\n",
       "      <th>deliveryMonth</th>\n",
       "      <th>deliveryDated</th>\n",
       "      <th>deliveryDuration</th>\n",
       "      <th>itemID</th>\n",
       "      <th>color</th>\n",
       "      <th>manufacturerID</th>\n",
       "      <th>price</th>\n",
       "      <th>customerID</th>\n",
       "      <th>salutation</th>\n",
       "      <th>state</th>\n",
       "      <th>customerAge</th>\n",
       "      <th>accountAgeMonth</th>\n",
       "      <th>returnShipment</th>\n",
       "    </tr>\n",
       "  </thead>\n",
       "  <tbody>\n",
       "    <tr>\n",
       "      <th>0</th>\n",
       "      <td>1</td>\n",
       "      <td>2012.0</td>\n",
       "      <td>4.0</td>\n",
       "      <td>1.0</td>\n",
       "      <td>M</td>\n",
       "      <td>2012.0</td>\n",
       "      <td>4.0</td>\n",
       "      <td>3.0</td>\n",
       "      <td>2.0</td>\n",
       "      <td>186</td>\n",
       "      <td>blue</td>\n",
       "      <td>25</td>\n",
       "      <td>69.90</td>\n",
       "      <td>794</td>\n",
       "      <td>Mrs</td>\n",
       "      <td>Baden-Wuerttemberg</td>\n",
       "      <td>48.0</td>\n",
       "      <td>27.0</td>\n",
       "      <td>0</td>\n",
       "    </tr>\n",
       "    <tr>\n",
       "      <th>1</th>\n",
       "      <td>2</td>\n",
       "      <td>2012.0</td>\n",
       "      <td>4.0</td>\n",
       "      <td>1.0</td>\n",
       "      <td>M</td>\n",
       "      <td>2012.0</td>\n",
       "      <td>4.0</td>\n",
       "      <td>3.0</td>\n",
       "      <td>2.0</td>\n",
       "      <td>71</td>\n",
       "      <td>brown</td>\n",
       "      <td>21</td>\n",
       "      <td>69.95</td>\n",
       "      <td>794</td>\n",
       "      <td>Mrs</td>\n",
       "      <td>Baden-Wuerttemberg</td>\n",
       "      <td>48.0</td>\n",
       "      <td>27.0</td>\n",
       "      <td>1</td>\n",
       "    </tr>\n",
       "    <tr>\n",
       "      <th>2</th>\n",
       "      <td>3</td>\n",
       "      <td>2012.0</td>\n",
       "      <td>4.0</td>\n",
       "      <td>1.0</td>\n",
       "      <td>M</td>\n",
       "      <td>2012.0</td>\n",
       "      <td>4.0</td>\n",
       "      <td>3.0</td>\n",
       "      <td>2.0</td>\n",
       "      <td>71</td>\n",
       "      <td>yellow</td>\n",
       "      <td>21</td>\n",
       "      <td>69.95</td>\n",
       "      <td>794</td>\n",
       "      <td>Mrs</td>\n",
       "      <td>Baden-Wuerttemberg</td>\n",
       "      <td>48.0</td>\n",
       "      <td>27.0</td>\n",
       "      <td>1</td>\n",
       "    </tr>\n",
       "    <tr>\n",
       "      <th>3</th>\n",
       "      <td>4</td>\n",
       "      <td>2012.0</td>\n",
       "      <td>4.0</td>\n",
       "      <td>2.0</td>\n",
       "      <td>M</td>\n",
       "      <td>2012.0</td>\n",
       "      <td>4.0</td>\n",
       "      <td>5.0</td>\n",
       "      <td>3.0</td>\n",
       "      <td>22</td>\n",
       "      <td>green</td>\n",
       "      <td>14</td>\n",
       "      <td>39.90</td>\n",
       "      <td>808</td>\n",
       "      <td>Mrs</td>\n",
       "      <td>Saxony</td>\n",
       "      <td>54.0</td>\n",
       "      <td>19.0</td>\n",
       "      <td>0</td>\n",
       "    </tr>\n",
       "    <tr>\n",
       "      <th>4</th>\n",
       "      <td>5</td>\n",
       "      <td>2012.0</td>\n",
       "      <td>4.0</td>\n",
       "      <td>2.0</td>\n",
       "      <td>S</td>\n",
       "      <td>2012.0</td>\n",
       "      <td>4.0</td>\n",
       "      <td>5.0</td>\n",
       "      <td>3.0</td>\n",
       "      <td>151</td>\n",
       "      <td>black</td>\n",
       "      <td>53</td>\n",
       "      <td>29.90</td>\n",
       "      <td>825</td>\n",
       "      <td>Mrs</td>\n",
       "      <td>Rhineland-Palatinate</td>\n",
       "      <td>49.0</td>\n",
       "      <td>29.0</td>\n",
       "      <td>0</td>\n",
       "    </tr>\n",
       "    <tr>\n",
       "      <th>5</th>\n",
       "      <td>6</td>\n",
       "      <td>2012.0</td>\n",
       "      <td>4.0</td>\n",
       "      <td>2.0</td>\n",
       "      <td>XXL</td>\n",
       "      <td>2012.0</td>\n",
       "      <td>4.0</td>\n",
       "      <td>5.0</td>\n",
       "      <td>3.0</td>\n",
       "      <td>598</td>\n",
       "      <td>brown</td>\n",
       "      <td>87</td>\n",
       "      <td>89.90</td>\n",
       "      <td>825</td>\n",
       "      <td>Mrs</td>\n",
       "      <td>Rhineland-Palatinate</td>\n",
       "      <td>49.0</td>\n",
       "      <td>29.0</td>\n",
       "      <td>0</td>\n",
       "    </tr>\n",
       "    <tr>\n",
       "      <th>6</th>\n",
       "      <td>7</td>\n",
       "      <td>2012.0</td>\n",
       "      <td>4.0</td>\n",
       "      <td>2.0</td>\n",
       "      <td>S</td>\n",
       "      <td>2012.0</td>\n",
       "      <td>4.0</td>\n",
       "      <td>5.0</td>\n",
       "      <td>3.0</td>\n",
       "      <td>15</td>\n",
       "      <td>black</td>\n",
       "      <td>1</td>\n",
       "      <td>129.90</td>\n",
       "      <td>825</td>\n",
       "      <td>Mrs</td>\n",
       "      <td>Rhineland-Palatinate</td>\n",
       "      <td>49.0</td>\n",
       "      <td>29.0</td>\n",
       "      <td>0</td>\n",
       "    </tr>\n",
       "    <tr>\n",
       "      <th>7</th>\n",
       "      <td>8</td>\n",
       "      <td>2012.0</td>\n",
       "      <td>4.0</td>\n",
       "      <td>2.0</td>\n",
       "      <td>XXL</td>\n",
       "      <td>2012.0</td>\n",
       "      <td>4.0</td>\n",
       "      <td>3.0</td>\n",
       "      <td>1.0</td>\n",
       "      <td>32</td>\n",
       "      <td>brown</td>\n",
       "      <td>3</td>\n",
       "      <td>21.90</td>\n",
       "      <td>850</td>\n",
       "      <td>Mrs</td>\n",
       "      <td>North Rhine-Westphalia</td>\n",
       "      <td>65.0</td>\n",
       "      <td>29.0</td>\n",
       "      <td>1</td>\n",
       "    </tr>\n",
       "    <tr>\n",
       "      <th>8</th>\n",
       "      <td>9</td>\n",
       "      <td>2012.0</td>\n",
       "      <td>4.0</td>\n",
       "      <td>2.0</td>\n",
       "      <td>XXL</td>\n",
       "      <td>2012.0</td>\n",
       "      <td>4.0</td>\n",
       "      <td>3.0</td>\n",
       "      <td>1.0</td>\n",
       "      <td>32</td>\n",
       "      <td>red</td>\n",
       "      <td>3</td>\n",
       "      <td>21.90</td>\n",
       "      <td>850</td>\n",
       "      <td>Mrs</td>\n",
       "      <td>North Rhine-Westphalia</td>\n",
       "      <td>65.0</td>\n",
       "      <td>29.0</td>\n",
       "      <td>1</td>\n",
       "    </tr>\n",
       "    <tr>\n",
       "      <th>9</th>\n",
       "      <td>10</td>\n",
       "      <td>2012.0</td>\n",
       "      <td>4.0</td>\n",
       "      <td>2.0</td>\n",
       "      <td>XXL</td>\n",
       "      <td>2012.0</td>\n",
       "      <td>4.0</td>\n",
       "      <td>3.0</td>\n",
       "      <td>1.0</td>\n",
       "      <td>57</td>\n",
       "      <td>green</td>\n",
       "      <td>3</td>\n",
       "      <td>39.90</td>\n",
       "      <td>850</td>\n",
       "      <td>Mrs</td>\n",
       "      <td>North Rhine-Westphalia</td>\n",
       "      <td>65.0</td>\n",
       "      <td>29.0</td>\n",
       "      <td>1</td>\n",
       "    </tr>\n",
       "  </tbody>\n",
       "</table>\n",
       "</div>"
      ],
      "text/plain": [
       "   orderItemID  orderYear  orderMonth  orderDated size  deliveryYear  \\\n",
       "0            1     2012.0         4.0         1.0    M        2012.0   \n",
       "1            2     2012.0         4.0         1.0    M        2012.0   \n",
       "2            3     2012.0         4.0         1.0    M        2012.0   \n",
       "3            4     2012.0         4.0         2.0    M        2012.0   \n",
       "4            5     2012.0         4.0         2.0    S        2012.0   \n",
       "5            6     2012.0         4.0         2.0  XXL        2012.0   \n",
       "6            7     2012.0         4.0         2.0    S        2012.0   \n",
       "7            8     2012.0         4.0         2.0  XXL        2012.0   \n",
       "8            9     2012.0         4.0         2.0  XXL        2012.0   \n",
       "9           10     2012.0         4.0         2.0  XXL        2012.0   \n",
       "\n",
       "   deliveryMonth  deliveryDated  deliveryDuration  itemID   color  \\\n",
       "0            4.0            3.0               2.0     186    blue   \n",
       "1            4.0            3.0               2.0      71   brown   \n",
       "2            4.0            3.0               2.0      71  yellow   \n",
       "3            4.0            5.0               3.0      22   green   \n",
       "4            4.0            5.0               3.0     151   black   \n",
       "5            4.0            5.0               3.0     598   brown   \n",
       "6            4.0            5.0               3.0      15   black   \n",
       "7            4.0            3.0               1.0      32   brown   \n",
       "8            4.0            3.0               1.0      32     red   \n",
       "9            4.0            3.0               1.0      57   green   \n",
       "\n",
       "   manufacturerID   price  customerID salutation                   state  \\\n",
       "0              25   69.90         794        Mrs      Baden-Wuerttemberg   \n",
       "1              21   69.95         794        Mrs      Baden-Wuerttemberg   \n",
       "2              21   69.95         794        Mrs      Baden-Wuerttemberg   \n",
       "3              14   39.90         808        Mrs                  Saxony   \n",
       "4              53   29.90         825        Mrs    Rhineland-Palatinate   \n",
       "5              87   89.90         825        Mrs    Rhineland-Palatinate   \n",
       "6               1  129.90         825        Mrs    Rhineland-Palatinate   \n",
       "7               3   21.90         850        Mrs  North Rhine-Westphalia   \n",
       "8               3   21.90         850        Mrs  North Rhine-Westphalia   \n",
       "9               3   39.90         850        Mrs  North Rhine-Westphalia   \n",
       "\n",
       "   customerAge  accountAgeMonth  returnShipment  \n",
       "0         48.0             27.0               0  \n",
       "1         48.0             27.0               1  \n",
       "2         48.0             27.0               1  \n",
       "3         54.0             19.0               0  \n",
       "4         49.0             29.0               0  \n",
       "5         49.0             29.0               0  \n",
       "6         49.0             29.0               0  \n",
       "7         65.0             29.0               1  \n",
       "8         65.0             29.0               1  \n",
       "9         65.0             29.0               1  "
      ]
     },
     "execution_count": 53,
     "metadata": {},
     "output_type": "execute_result"
    }
   ],
   "source": [
    "df2.head(10)"
   ]
  },
  {
   "cell_type": "code",
   "execution_count": 54,
   "id": "6673dc08",
   "metadata": {},
   "outputs": [
    {
     "data": {
      "image/png": "[encoded data removed]",
      "text/plain": [
       "<Figure size 864x576 with 2 Axes>"
      ]
     },
     "metadata": {
      "needs_background": "light"
     },
     "output_type": "display_data"
    }
   ],
   "source": [
    "#melihat korelasi atribut returnShipment dengan atribut lainnya yang bertipe numerik\n",
    "corr_pearson = df2.corr()\n",
    "plt.figure(figsize=(12,8))\n",
    "sns.heatmap(corr_pearson, cmap=\"RdBu_r\",annot=True)\n",
    "\n",
    "plt.title('Correlation between Numeric Variables')\n",
    "plt.show()"
   ]
  },
  {
   "cell_type": "code",
   "execution_count": 55,
   "id": "3e488c02",
   "metadata": {},
   "outputs": [],
   "source": [
    "df2[\"salutation\"] = df2[\"salutation\"].astype('category')\n",
    "df2[\"state\"] = df2[\"state\"].astype('category')\n",
    "df2[\"color\"] = df2[\"color\"].astype('category')\n",
    "df2[\"size\"] = df2[\"size\"].astype('category')"
   ]
  },
  {
   "cell_type": "code",
   "execution_count": 56,
   "id": "e69d8455",
   "metadata": {},
   "outputs": [],
   "source": [
    "#untuk mengubah atribut kategorikal menjadi one hot method\n",
    "df2 = pd.get_dummies(data=df2, columns=['salutation','size','color','state'])"
   ]
  },
  {
   "cell_type": "code",
   "execution_count": 57,
   "id": "9c251020",
   "metadata": {},
   "outputs": [
    {
     "data": {
      "text/plain": [
       "(481092, 56)"
      ]
     },
     "execution_count": 57,
     "metadata": {},
     "output_type": "execute_result"
    }
   ],
   "source": [
    "#untuk melihat jumlah kolom setelah di one hot\n",
    "df2.shape"
   ]
  },
  {
   "cell_type": "code",
   "execution_count": 58,
   "id": "83cce6e2",
   "metadata": {},
   "outputs": [],
   "source": [
    "x = df2.drop(\"returnShipment\", axis=1)\n",
    "y = df2.returnShipment"
   ]
  },
  {
   "cell_type": "code",
   "execution_count": 59,
   "id": "4b50b63b",
   "metadata": {},
   "outputs": [
    {
     "name": "stdout",
     "output_type": "stream",
     "text": [
      "<class 'pandas.core.frame.DataFrame'>\n",
      "RangeIndex: 481092 entries, 0 to 481091\n",
      "Data columns (total 55 columns):\n",
      " #   Column                               Non-Null Count   Dtype  \n",
      "---  ------                               --------------   -----  \n",
      " 0   orderItemID                          481092 non-null  int64  \n",
      " 1   orderYear                            481092 non-null  float64\n",
      " 2   orderMonth                           481092 non-null  float64\n",
      " 3   orderDated                           481092 non-null  float64\n",
      " 4   deliveryYear                         481092 non-null  float64\n",
      " 5   deliveryMonth                        481092 non-null  float64\n",
      " 6   deliveryDated                        481092 non-null  float64\n",
      " 7   deliveryDuration                     481092 non-null  float64\n",
      " 8   itemID                               481092 non-null  int64  \n",
      " 9   manufacturerID                       481092 non-null  int64  \n",
      " 10  price                                481092 non-null  float64\n",
      " 11  customerID                           481092 non-null  int64  \n",
      " 12  customerAge                          481092 non-null  float64\n",
      " 13  accountAgeMonth                      481092 non-null  float64\n",
      " 14  salutation_Mr                        481092 non-null  uint8  \n",
      " 15  salutation_Mrs                       481092 non-null  uint8  \n",
      " 16  salutation_Other                     481092 non-null  uint8  \n",
      " 17  size_L                               481092 non-null  uint8  \n",
      " 18  size_M                               481092 non-null  uint8  \n",
      " 19  size_S                               481092 non-null  uint8  \n",
      " 20  size_XL                              481092 non-null  uint8  \n",
      " 21  size_XS                              481092 non-null  uint8  \n",
      " 22  size_XXL                             481092 non-null  uint8  \n",
      " 23  size_XXS                             481092 non-null  uint8  \n",
      " 24  size_XXXL                            481092 non-null  uint8  \n",
      " 25  size_unsized                         481092 non-null  uint8  \n",
      " 26  color_black                          481092 non-null  uint8  \n",
      " 27  color_blue                           481092 non-null  uint8  \n",
      " 28  color_brown                          481092 non-null  uint8  \n",
      " 29  color_green                          481092 non-null  uint8  \n",
      " 30  color_grey                           481092 non-null  uint8  \n",
      " 31  color_orange                         481092 non-null  uint8  \n",
      " 32  color_other                          481092 non-null  uint8  \n",
      " 33  color_pink                           481092 non-null  uint8  \n",
      " 34  color_purple                         481092 non-null  uint8  \n",
      " 35  color_red                            481092 non-null  uint8  \n",
      " 36  color_unspecified                    481092 non-null  uint8  \n",
      " 37  color_white                          481092 non-null  uint8  \n",
      " 38  color_yellow                         481092 non-null  uint8  \n",
      " 39  state_Baden-Wuerttemberg             481092 non-null  uint8  \n",
      " 40  state_Bavaria                        481092 non-null  uint8  \n",
      " 41  state_Berlin                         481092 non-null  uint8  \n",
      " 42  state_Brandenburg                    481092 non-null  uint8  \n",
      " 43  state_Bremen                         481092 non-null  uint8  \n",
      " 44  state_Hamburg                        481092 non-null  uint8  \n",
      " 45  state_Hesse                          481092 non-null  uint8  \n",
      " 46  state_Lower Saxony                   481092 non-null  uint8  \n",
      " 47  state_Mecklenburg-Western Pomerania  481092 non-null  uint8  \n",
      " 48  state_North Rhine-Westphalia         481092 non-null  uint8  \n",
      " 49  state_Rhineland-Palatinate           481092 non-null  uint8  \n",
      " 50  state_Saarland                       481092 non-null  uint8  \n",
      " 51  state_Saxony                         481092 non-null  uint8  \n",
      " 52  state_Saxony-Anhalt                  481092 non-null  uint8  \n",
      " 53  state_Schleswig-Holstein             481092 non-null  uint8  \n",
      " 54  state_Thuringia                      481092 non-null  uint8  \n",
      "dtypes: float64(10), int64(4), uint8(41)\n",
      "memory usage: 70.2 MB\n"
     ]
    }
   ],
   "source": [
    "x.info()"
   ]
  },
  {
   "cell_type": "markdown",
   "id": "2b3c5a03",
   "metadata": {},
   "source": [
    "# Membuat Model Klasifikasi"
   ]
  },
  {
   "cell_type": "code",
   "execution_count": 60,
   "id": "68a715ce",
   "metadata": {},
   "outputs": [],
   "source": [
    "from sklearn.model_selection import train_test_split\n",
    "X_train,X_test,Y_train,Y_test=train_test_split(x,y,test_size=0.2, random_state=123)"
   ]
  },
  {
   "cell_type": "code",
   "execution_count": 61,
   "id": "9acb45a4",
   "metadata": {},
   "outputs": [],
   "source": [
    "import pickle\n",
    "with open('C:\\\\Users\\\\riska\\\\Downloads\\\\data_returns\\\\orders_train_x_train_columns.pickle', 'wb') as fp:\n",
    "    pickle.dump(X_train.columns, fp)"
   ]
  },
  {
   "cell_type": "markdown",
   "id": "a22228ba",
   "metadata": {},
   "source": [
    "## Model Gausisan Naive Bayes"
   ]
  },
  {
   "cell_type": "code",
   "execution_count": 62,
   "id": "72d994ef",
   "metadata": {},
   "outputs": [
    {
     "name": "stdout",
     "output_type": "stream",
     "text": [
      "Akurasi 0.5549319780916451\n",
      "              precision    recall  f1-score   support\n",
      "\n",
      "           0       0.55      0.70      0.62     49723\n",
      "           1       0.56      0.40      0.46     46496\n",
      "\n",
      "    accuracy                           0.55     96219\n",
      "   macro avg       0.55      0.55      0.54     96219\n",
      "weighted avg       0.55      0.55      0.54     96219\n",
      "\n"
     ]
    }
   ],
   "source": [
    "from sklearn.naive_bayes import GaussianNB\n",
    "from sklearn.metrics import classification_report\n",
    "from sklearn.metrics import accuracy_score\n",
    "clf_NB = GaussianNB()\n",
    "clf_NB.fit(X_train, Y_train)\n",
    "Y_pred = clf_NB.predict(X_test)\n",
    "acc = accuracy_score(Y_test, Y_pred)\n",
    "print(\"Akurasi {}\".format(acc))\n",
    "print(classification_report(Y_test, Y_pred))"
   ]
  },
  {
   "cell_type": "markdown",
   "id": "bad86b4c",
   "metadata": {},
   "source": [
    "## Model Decision Tree"
   ]
  },
  {
   "cell_type": "code",
   "execution_count": 63,
   "id": "583aad7c",
   "metadata": {},
   "outputs": [
    {
     "name": "stdout",
     "output_type": "stream",
     "text": [
      "Akurasi 0.5924817343767863\n",
      "              precision    recall  f1-score   support\n",
      "\n",
      "           0       0.61      0.60      0.60     49723\n",
      "           1       0.58      0.58      0.58     46496\n",
      "\n",
      "    accuracy                           0.59     96219\n",
      "   macro avg       0.59      0.59      0.59     96219\n",
      "weighted avg       0.59      0.59      0.59     96219\n",
      "\n"
     ]
    }
   ],
   "source": [
    "from sklearn import tree\n",
    "clf_DT = tree.DecisionTreeClassifier()\n",
    "clf_DT.fit(X_train, Y_train)\n",
    "Y_pred = clf_DT.predict(X_test)\n",
    "acc = accuracy_score(Y_test, Y_pred)\n",
    "print(\"Akurasi {}\".format(acc))\n",
    "print(classification_report(Y_test, Y_pred))"
   ]
  },
  {
   "cell_type": "markdown",
   "id": "6654dcd5",
   "metadata": {},
   "source": [
    "## Model Random Forest"
   ]
  },
  {
   "cell_type": "code",
   "execution_count": 103,
   "id": "c6c9889a",
   "metadata": {},
   "outputs": [
    {
     "name": "stdout",
     "output_type": "stream",
     "text": [
      "Akurasi 0.6455897483864933\n",
      "              precision    recall  f1-score   support\n",
      "\n",
      "           0       0.66      0.66      0.66     49723\n",
      "           1       0.64      0.63      0.63     46496\n",
      "\n",
      "    accuracy                           0.65     96219\n",
      "   macro avg       0.65      0.64      0.65     96219\n",
      "weighted avg       0.65      0.65      0.65     96219\n",
      "\n"
     ]
    }
   ],
   "source": [
    "from sklearn.ensemble import RandomForestClassifier\n",
    "clf_RF3 = RandomForestClassifier(n_estimators=50, random_state=123)\n",
    "clf_RF3.fit(X_train, Y_train)\n",
    "Y_pred = clf_RF3.predict(X_test)\n",
    "acc = accuracy_score(Y_test, Y_pred)\n",
    "print(\"Akurasi {}\".format(acc))\n",
    "print(classification_report(Y_test, Y_pred))"
   ]
  },
  {
   "cell_type": "markdown",
   "id": "aaa498a3",
   "metadata": {},
   "source": [
    "Pembuatan model prediksi dengan menggunakan algoritma Random Forest memiliki hasil yang lebih baik daripada algoritma Naive Bayes dan Decision Tree. Selanjutnya dilakukan tuning pada parameter Random Forest atau menambah nilai estimatornya untuk mendapatkan hasil yang lebih tinggi."
   ]
  },
  {
   "cell_type": "code",
   "execution_count": 65,
   "id": "2ca1dd50",
   "metadata": {},
   "outputs": [
    {
     "name": "stdout",
     "output_type": "stream",
     "text": [
      "Akurasi 0.6529999272492959\n",
      "              precision    recall  f1-score   support\n",
      "\n",
      "           0       0.67      0.66      0.66     49723\n",
      "           1       0.64      0.65      0.64     46496\n",
      "\n",
      "    accuracy                           0.65     96219\n",
      "   macro avg       0.65      0.65      0.65     96219\n",
      "weighted avg       0.65      0.65      0.65     96219\n",
      "\n"
     ]
    }
   ],
   "source": [
    "from sklearn.ensemble import RandomForestClassifier\n",
    "clf_RF2 = RandomForestClassifier(n_estimators=100, random_state=123)\n",
    "clf_RF2.fit(X_train, Y_train)\n",
    "Y_pred = clf_RF2.predict(X_test)\n",
    "acc = accuracy_score(Y_test, Y_pred)\n",
    "print(\"Akurasi {}\".format(acc))\n",
    "print(classification_report(Y_test, Y_pred))"
   ]
  },
  {
   "cell_type": "markdown",
   "id": "460fecb2",
   "metadata": {},
   "source": [
    "Ketika nilai estimatornya dinaikan menjadi 100 terdapat kenaikan pada nilai akurasi dan f1-score 1 dari 0.63 menjadi 0.64."
   ]
  },
  {
   "cell_type": "code",
   "execution_count": 66,
   "id": "455c3a30",
   "metadata": {},
   "outputs": [
    {
     "name": "stdout",
     "output_type": "stream",
     "text": [
      "Akurasi 0.6560242779492615\n",
      "              precision    recall  f1-score   support\n",
      "\n",
      "           0       0.67      0.65      0.66     49723\n",
      "           1       0.64      0.66      0.65     46496\n",
      "\n",
      "    accuracy                           0.66     96219\n",
      "   macro avg       0.66      0.66      0.66     96219\n",
      "weighted avg       0.66      0.66      0.66     96219\n",
      "\n"
     ]
    }
   ],
   "source": [
    "from sklearn.ensemble import RandomForestClassifier\n",
    "clf_RF = RandomForestClassifier(n_estimators=200, random_state=123)\n",
    "clf_RF.fit(X_train, Y_train)\n",
    "Y_pred = clf_RF.predict(X_test)\n",
    "acc = accuracy_score(Y_test, Y_pred)\n",
    "print(\"Akurasi {}\".format(acc))\n",
    "print(classification_report(Y_test, Y_pred))"
   ]
  },
  {
   "cell_type": "markdown",
   "id": "675a9558",
   "metadata": {},
   "source": [
    "Ketika nilai estimatornya ditambah menjadi 200 terdapat kenaikan pada nilai akurasi dan f1-score 1 dari 0.64 menjadi 0.65. Hasil dari algoritma Random Forest dengan estimator 200 ini memiliki hasil yang paling tinggi, sehingga model ini yang akan digunakan untuk melakukan prediksi."
   ]
  },
  {
   "cell_type": "code",
   "execution_count": 67,
   "id": "4bf864c1",
   "metadata": {},
   "outputs": [
    {
     "name": "stdout",
     "output_type": "stream",
     "text": [
      "                                     importance\n",
      "orderItemID                            0.108274\n",
      "customerID                             0.091538\n",
      "itemID                                 0.081366\n",
      "price                                  0.076461\n",
      "customerAge                            0.072127\n",
      "orderDated                             0.061332\n",
      "deliveryDated                          0.059763\n",
      "manufacturerID                         0.057429\n",
      "deliveryDuration                       0.057111\n",
      "accountAgeMonth                        0.046619\n",
      "deliveryMonth                          0.021575\n",
      "orderMonth                             0.018589\n",
      "state_North Rhine-Westphalia           0.013321\n",
      "size_L                                 0.011872\n",
      "size_M                                 0.011605\n",
      "state_Bavaria                          0.011111\n",
      "state_Lower Saxony                     0.011081\n",
      "state_Baden-Wuerttemberg               0.010664\n",
      "color_blue                             0.010467\n",
      "color_black                            0.010121\n",
      "size_XL                                0.010071\n",
      "size_S                                 0.009922\n",
      "color_grey                             0.009234\n",
      "color_brown                            0.009073\n",
      "size_XXL                               0.008320\n",
      "state_Hesse                            0.008096\n",
      "color_green                            0.007931\n",
      "color_red                              0.007473\n",
      "color_purple                           0.006554\n",
      "state_Rhineland-Palatinate             0.006477\n",
      "size_unsized                           0.006459\n",
      "state_Schleswig-Holstein               0.006305\n",
      "color_white                            0.005635\n",
      "state_Berlin                           0.005381\n",
      "state_Saxony                           0.004533\n",
      "size_XS                                0.004514\n",
      "state_Hamburg                          0.003642\n",
      "state_Brandenburg                      0.003635\n",
      "color_other                            0.003464\n",
      "color_pink                             0.003225\n",
      "state_Mecklenburg-Western Pomerania    0.002762\n",
      "salutation_Mrs                         0.002742\n",
      "state_Thuringia                        0.002728\n",
      "salutation_Mr                          0.002373\n",
      "state_Bremen                           0.002253\n",
      "state_Saxony-Anhalt                    0.002251\n",
      "size_XXXL                              0.002151\n",
      "size_XXS                               0.002146\n",
      "color_orange                           0.001970\n",
      "state_Saarland                         0.001850\n",
      "deliveryYear                           0.001329\n",
      "color_yellow                           0.001173\n",
      "orderYear                              0.001113\n",
      "salutation_Other                       0.000757\n",
      "color_unspecified                      0.000030\n"
     ]
    }
   ],
   "source": [
    "feature_importances = pd.DataFrame(clf_RF.feature_importances_,index = X_train.columns, columns=['importance']).sort_values('importance',ascending=False)\n",
    "\n",
    "print(feature_importances)"
   ]
  },
  {
   "cell_type": "markdown",
   "id": "0ad55c81",
   "metadata": {},
   "source": [
    "## Cross-Validation DecisionTree"
   ]
  },
  {
   "cell_type": "code",
   "execution_count": 68,
   "id": "709dc1ae",
   "metadata": {},
   "outputs": [
    {
     "name": "stdout",
     "output_type": "stream",
     "text": [
      "              precision    recall  f1-score   support\n",
      "\n",
      "           0       0.52      1.00      0.68     62251\n",
      "           1       0.16      0.00      0.00     58022\n",
      "\n",
      "    accuracy                           0.52    120273\n",
      "   macro avg       0.34      0.50      0.34    120273\n",
      "weighted avg       0.35      0.52      0.35    120273\n",
      "\n",
      "[[62093   158]\n",
      " [57991    31]]\n",
      "              precision    recall  f1-score   support\n",
      "\n",
      "           0       0.51      0.59      0.55     62250\n",
      "           1       0.47      0.40      0.43     58023\n",
      "\n",
      "    accuracy                           0.50    120273\n",
      "   macro avg       0.49      0.49      0.49    120273\n",
      "weighted avg       0.49      0.50      0.49    120273\n",
      "\n",
      "[[36620 25630]\n",
      " [34928 23095]]\n",
      "              precision    recall  f1-score   support\n",
      "\n",
      "           0       0.42      0.32      0.36     62250\n",
      "           1       0.42      0.54      0.47     58023\n",
      "\n",
      "    accuracy                           0.42    120273\n",
      "   macro avg       0.42      0.43      0.42    120273\n",
      "weighted avg       0.42      0.42      0.42    120273\n",
      "\n",
      "[[19682 42568]\n",
      " [26780 31243]]\n",
      "              precision    recall  f1-score   support\n",
      "\n",
      "           0       1.00      0.00      0.00     62250\n",
      "           1       0.48      1.00      0.65     58023\n",
      "\n",
      "    accuracy                           0.48    120273\n",
      "   macro avg       0.74      0.50      0.33    120273\n",
      "weighted avg       0.75      0.48      0.31    120273\n",
      "\n",
      "[[    3 62247]\n",
      " [    0 58023]]\n",
      "[0.51652491 0.49649547 0.42341174 0.48245242]\n"
     ]
    }
   ],
   "source": [
    "from sklearn.metrics import classification_report, accuracy_score, make_scorer\n",
    "from sklearn.model_selection import cross_val_score\n",
    "from sklearn.metrics import confusion_matrix\n",
    "\n",
    "def classification_report_with_accuracy_score(y_true, y_pred):    \n",
    "    print(classification_report(y_true, y_pred)) \n",
    "    print(confusion_matrix(y_true, y_pred))\n",
    "    return accuracy_score(y_true, y_pred) \n",
    "clf_CV = tree.DecisionTreeClassifier()\n",
    "scores = cross_val_score(clf_CV, X=x, y=y, cv=4, scoring=make_scorer(classification_report_with_accuracy_score))\n",
    "print(scores)"
   ]
  },
  {
   "cell_type": "markdown",
   "id": "c29a3470",
   "metadata": {},
   "source": [
    "## Model XGBoost"
   ]
  },
  {
   "cell_type": "markdown",
   "id": "7453a0f2",
   "metadata": {},
   "source": [
    "import xgboost as xgb\n",
    "clf_XGB = xgb.XGBClassifier(objective = \"multi:softprob\", num_class = 2, eval_metric = \"mlogloss\", max_depth = 24, gamma=0.1, subsample = 0.90,learning_rate=0.1, n_estimators = 100, nthread=-1)\n",
    "# num_class adalah jumlah kelas\n",
    "clf_XGB.fit(X_train, Y_train)\n",
    "Y_pred = clf_XGB.predict(X_test)\n",
    "Y_pred = np.argmax(Y_pred, axis=1)\n",
    "acc = accuracy_score(Y_test, Y_pred)\n",
    "print(\"Akurasi {}\".format(acc))\n",
    "print(classification_report(Y_test, Y_pred))"
   ]
  },
  {
   "cell_type": "markdown",
   "id": "1c761773",
   "metadata": {},
   "source": [
    "### Menyimpan model hasil training algoritma RandomForest"
   ]
  },
  {
   "cell_type": "code",
   "execution_count": 69,
   "id": "499ba33e",
   "metadata": {},
   "outputs": [
    {
     "data": {
      "text/plain": [
       "['C:\\\\Users\\\\riska\\\\Downloads\\\\data_returns\\\\RF_order.joblib']"
      ]
     },
     "execution_count": 69,
     "metadata": {},
     "output_type": "execute_result"
    }
   ],
   "source": [
    "import joblib\n",
    "import pandas as pd\n",
    "joblib.dump(clf_RF, 'C:\\\\Users\\\\riska\\\\Downloads\\\\data_returns\\\\RF_order.joblib')"
   ]
  },
  {
   "cell_type": "markdown",
   "id": "4aca1125",
   "metadata": {},
   "source": [
    "# Implementasi Model"
   ]
  },
  {
   "cell_type": "code",
   "execution_count": 70,
   "id": "57d70334",
   "metadata": {},
   "outputs": [],
   "source": [
    "df_class = pd.read_csv(\"C:\\\\Users\\\\riska\\\\Downloads\\\\data_returns\\\\orders_class.txt\", sep=\";\")"
   ]
  },
  {
   "cell_type": "code",
   "execution_count": 71,
   "id": "a67b6a99",
   "metadata": {},
   "outputs": [
    {
     "data": {
      "text/html": [
       "<div>\n",
       "<style scoped>\n",
       "    .dataframe tbody tr th:only-of-type {\n",
       "        vertical-align: middle;\n",
       "    }\n",
       "\n",
       "    .dataframe tbody tr th {\n",
       "        vertical-align: top;\n",
       "    }\n",
       "\n",
       "    .dataframe thead th {\n",
       "        text-align: right;\n",
       "    }\n",
       "</style>\n",
       "<table border=\"1\" class=\"dataframe\">\n",
       "  <thead>\n",
       "    <tr style=\"text-align: right;\">\n",
       "      <th></th>\n",
       "      <th>orderItemID</th>\n",
       "      <th>orderDate</th>\n",
       "      <th>deliveryDate</th>\n",
       "      <th>itemID</th>\n",
       "      <th>size</th>\n",
       "      <th>color</th>\n",
       "      <th>manufacturerID</th>\n",
       "      <th>price</th>\n",
       "      <th>customerID</th>\n",
       "      <th>salutation</th>\n",
       "      <th>dateOfBirth</th>\n",
       "      <th>state</th>\n",
       "      <th>creationDate</th>\n",
       "    </tr>\n",
       "  </thead>\n",
       "  <tbody>\n",
       "    <tr>\n",
       "      <th>0</th>\n",
       "      <td>1</td>\n",
       "      <td>2013-04-01</td>\n",
       "      <td>2013-04-03</td>\n",
       "      <td>2347</td>\n",
       "      <td>43</td>\n",
       "      <td>magenta</td>\n",
       "      <td>1</td>\n",
       "      <td>89.9</td>\n",
       "      <td>12489</td>\n",
       "      <td>Mrs</td>\n",
       "      <td>1963-04-26</td>\n",
       "      <td>Hesse</td>\n",
       "      <td>2012-04-23</td>\n",
       "    </tr>\n",
       "    <tr>\n",
       "      <th>1</th>\n",
       "      <td>2</td>\n",
       "      <td>2013-04-01</td>\n",
       "      <td>2013-04-03</td>\n",
       "      <td>2741</td>\n",
       "      <td>43</td>\n",
       "      <td>grey</td>\n",
       "      <td>1</td>\n",
       "      <td>99.9</td>\n",
       "      <td>12489</td>\n",
       "      <td>Mrs</td>\n",
       "      <td>1963-04-26</td>\n",
       "      <td>Hesse</td>\n",
       "      <td>2012-04-23</td>\n",
       "    </tr>\n",
       "    <tr>\n",
       "      <th>2</th>\n",
       "      <td>3</td>\n",
       "      <td>2013-04-01</td>\n",
       "      <td>2013-04-03</td>\n",
       "      <td>2514</td>\n",
       "      <td>9</td>\n",
       "      <td>ecru</td>\n",
       "      <td>19</td>\n",
       "      <td>79.9</td>\n",
       "      <td>12489</td>\n",
       "      <td>Mrs</td>\n",
       "      <td>1963-04-26</td>\n",
       "      <td>Hesse</td>\n",
       "      <td>2012-04-23</td>\n",
       "    </tr>\n",
       "    <tr>\n",
       "      <th>3</th>\n",
       "      <td>4</td>\n",
       "      <td>2013-04-01</td>\n",
       "      <td>2013-05-06</td>\n",
       "      <td>2347</td>\n",
       "      <td>42</td>\n",
       "      <td>brown</td>\n",
       "      <td>1</td>\n",
       "      <td>89.9</td>\n",
       "      <td>12489</td>\n",
       "      <td>Mrs</td>\n",
       "      <td>1963-04-26</td>\n",
       "      <td>Hesse</td>\n",
       "      <td>2012-04-23</td>\n",
       "    </tr>\n",
       "    <tr>\n",
       "      <th>4</th>\n",
       "      <td>5</td>\n",
       "      <td>2013-04-01</td>\n",
       "      <td>?</td>\n",
       "      <td>2690</td>\n",
       "      <td>43</td>\n",
       "      <td>grey</td>\n",
       "      <td>1</td>\n",
       "      <td>119.9</td>\n",
       "      <td>12489</td>\n",
       "      <td>Mrs</td>\n",
       "      <td>1963-04-26</td>\n",
       "      <td>Hesse</td>\n",
       "      <td>2012-04-23</td>\n",
       "    </tr>\n",
       "  </tbody>\n",
       "</table>\n",
       "</div>"
      ],
      "text/plain": [
       "   orderItemID   orderDate deliveryDate  itemID size    color  manufacturerID  \\\n",
       "0            1  2013-04-01   2013-04-03    2347   43  magenta               1   \n",
       "1            2  2013-04-01   2013-04-03    2741   43     grey               1   \n",
       "2            3  2013-04-01   2013-04-03    2514    9     ecru              19   \n",
       "3            4  2013-04-01   2013-05-06    2347   42    brown               1   \n",
       "4            5  2013-04-01            ?    2690   43     grey               1   \n",
       "\n",
       "   price  customerID salutation dateOfBirth  state creationDate  \n",
       "0   89.9       12489        Mrs  1963-04-26  Hesse   2012-04-23  \n",
       "1   99.9       12489        Mrs  1963-04-26  Hesse   2012-04-23  \n",
       "2   79.9       12489        Mrs  1963-04-26  Hesse   2012-04-23  \n",
       "3   89.9       12489        Mrs  1963-04-26  Hesse   2012-04-23  \n",
       "4  119.9       12489        Mrs  1963-04-26  Hesse   2012-04-23  "
      ]
     },
     "execution_count": 71,
     "metadata": {},
     "output_type": "execute_result"
    }
   ],
   "source": [
    "df_class.head(5)"
   ]
  },
  {
   "cell_type": "markdown",
   "id": "60657d0b",
   "metadata": {},
   "source": [
    "## Praproses"
   ]
  },
  {
   "cell_type": "code",
   "execution_count": 72,
   "id": "b4cc89f4",
   "metadata": {},
   "outputs": [
    {
     "data": {
      "text/plain": [
       "orderItemID       0\n",
       "orderDate         0\n",
       "deliveryDate      0\n",
       "itemID            0\n",
       "size              0\n",
       "color             0\n",
       "manufacturerID    0\n",
       "price             0\n",
       "customerID        0\n",
       "salutation        0\n",
       "dateOfBirth       0\n",
       "state             0\n",
       "creationDate      0\n",
       "dtype: int64"
      ]
     },
     "execution_count": 72,
     "metadata": {},
     "output_type": "execute_result"
    }
   ],
   "source": [
    "df_class.isna().sum()"
   ]
  },
  {
   "cell_type": "code",
   "execution_count": 73,
   "id": "2390930f",
   "metadata": {},
   "outputs": [
    {
     "data": {
      "text/plain": [
       "orderItemID          0\n",
       "orderDate            0\n",
       "deliveryDate      4268\n",
       "itemID               0\n",
       "size                 0\n",
       "color                0\n",
       "manufacturerID       0\n",
       "price                0\n",
       "customerID           0\n",
       "salutation           0\n",
       "dateOfBirth       5169\n",
       "state                0\n",
       "creationDate         0\n",
       "dtype: int64"
      ]
     },
     "execution_count": 73,
     "metadata": {},
     "output_type": "execute_result"
    }
   ],
   "source": [
    "df_class.isin(['?']).sum()"
   ]
  },
  {
   "cell_type": "code",
   "execution_count": 74,
   "id": "c2bad314",
   "metadata": {},
   "outputs": [
    {
     "data": {
      "text/plain": [
       "540"
      ]
     },
     "execution_count": 74,
     "metadata": {},
     "output_type": "execute_result"
    }
   ],
   "source": [
    "#melihat banyak data deliveryDate yang tahunnya 1990\n",
    "df_class['deliveryDate'].str.contains(\"1990\").sum()"
   ]
  },
  {
   "cell_type": "code",
   "execution_count": 75,
   "id": "32f5fb67",
   "metadata": {},
   "outputs": [
    {
     "data": {
      "text/plain": [
       "0"
      ]
     },
     "execution_count": 75,
     "metadata": {},
     "output_type": "execute_result"
    }
   ],
   "source": [
    "#melihat banyak data dateOfBirth yang tahunnya 1655\n",
    "df_class['dateOfBirth'].str.contains(\"1655\").sum()"
   ]
  },
  {
   "cell_type": "code",
   "execution_count": 76,
   "id": "71338687",
   "metadata": {},
   "outputs": [],
   "source": [
    "df_class = df_class.replace('?', np.nan)\n",
    "df_class = df_class.replace('1990-12-31', np.nan)\n",
    "df_class = df_class.replace('1655-04-19', np.nan)"
   ]
  },
  {
   "cell_type": "code",
   "execution_count": 77,
   "id": "7b68e4da",
   "metadata": {},
   "outputs": [],
   "source": [
    "df_class['orderDate'] = pd.to_datetime(df_class['orderDate'])\n",
    "df_class['deliveryDate'] = pd.to_datetime(df_class['deliveryDate'])\n",
    "df_class['dateOfBirth'] = pd.to_datetime(df_class['dateOfBirth'])\n",
    "df_class['creationDate'] = pd.to_datetime(df_class['creationDate'])"
   ]
  },
  {
   "cell_type": "code",
   "execution_count": 78,
   "id": "581a5f33",
   "metadata": {},
   "outputs": [],
   "source": [
    "df_class.insert(2, \"orderYear\", np.nan)\n",
    "df_class.insert(3, \"orderMonth\", np.nan)\n",
    "df_class.insert(4, \"orderDated\", np.nan)\n",
    "\n",
    "df_class.insert(6, \"deliveryYear\", np.nan)\n",
    "df_class.insert(7, \"deliveryMonth\", np.nan)\n",
    "df_class.insert(8, \"deliveryDated\", np.nan)\n",
    "\n",
    "df_class.insert(9, \"deliveryDuration\", np.nan)"
   ]
  },
  {
   "cell_type": "code",
   "execution_count": 79,
   "id": "8633f4d2",
   "metadata": {},
   "outputs": [],
   "source": [
    "from datetime import timedelta\n",
    "df_class[\"orderYear\"] = df_class[\"orderDate\"].dt.year\n",
    "df_class[\"orderMonth\"] = df_class[\"orderDate\"].dt.month\n",
    "df_class[\"orderDated\"] = df_class[\"orderDate\"].dt.day\n",
    "\n",
    "df_class.loc[(df_class[\"deliveryDate\"].notna()), \"deliveryDuration\"] = (df_class[\"deliveryDate\"]- df_class[\"orderDate\"]) / np.timedelta64(1, 'D')\n",
    "\n",
    "median_duration = df_class[\"deliveryDuration\"].median()\n",
    "df_class.loc[(df_class[\"deliveryDate\"].isna()), \"deliveryDuration\"] = median_duration\n",
    "\n",
    "df_class.loc[(df_class[\"deliveryDate\"].isna()), \"deliveryDate\"] = df_class[\"orderDate\"].loc[(df_class[\"deliveryDate\"].isna())] + timedelta(days=median_duration)\n",
    "\n",
    "df_class[\"deliveryYear\"] = df_class[\"deliveryDate\"].dt.year\n",
    "df_class[\"deliveryMonth\"] = df_class[\"deliveryDate\"].dt.month\n",
    "df_class[\"deliveryDated\"] = df_class[\"deliveryDate\"].dt.day"
   ]
  },
  {
   "cell_type": "code",
   "execution_count": 80,
   "id": "d388cf4e",
   "metadata": {},
   "outputs": [],
   "source": [
    "df_class[\"orderYear\"] = df_class[\"orderYear\"].astype('float')\n",
    "df_class[\"orderMonth\"] = df_class[\"orderMonth\"].astype('float')\n",
    "df_class[\"orderDated\"] = df_class[\"orderDated\"].astype('float')\n",
    "\n",
    "df_class[\"deliveryYear\"] = df_class[\"deliveryYear\"].astype('float')\n",
    "df_class[\"deliveryMonth\"] = df_class[\"deliveryMonth\"].astype('float')\n",
    "df_class[\"deliveryDated\"] = df_class[\"deliveryDated\"].astype('float')\n",
    "\n",
    "df_class[\"deliveryDuration\"] = df_class[\"deliveryDuration\"].astype('float')"
   ]
  },
  {
   "cell_type": "code",
   "execution_count": 81,
   "id": "1bac66c0",
   "metadata": {},
   "outputs": [],
   "source": [
    "#mengganti data size yang hurufnya kecil menjadi huruf kapital agar seragam\n",
    "df_class.loc[(df_class[\"size\"] == \"s\"), \"size\"] = \"S\"\n",
    "df_class.loc[(df_class[\"size\"] == \"m\"), \"size\"] = \"M\"\n",
    "df_class.loc[(df_class[\"size\"] == \"l\"), \"size\"] = \"L\"\n",
    "df_class.loc[(df_class[\"size\"] == \"xl\"), \"size\"] = \"XL\"\n",
    "df_class.loc[(df_class[\"size\"] == \"xs\"), \"size\"] = \"XS\"\n",
    "df_class.loc[(df_class[\"size\"] == \"xxl\"), \"size\"] = \"XXL\"\n",
    "df_class.loc[(df_class[\"size\"] == \"xxxl\"), \"size\"] = \"XXXL\""
   ]
  },
  {
   "cell_type": "code",
   "execution_count": 82,
   "id": "6ac6eb84",
   "metadata": {},
   "outputs": [],
   "source": [
    "#mengganti data size yang belakangnya terdapat tanda '+' dengan huruf untuk mengurangi variasi data\n",
    "df_class.loc[(df_class[\"size\"] == \"9+\"), \"size\"] = \"M\"\n",
    "df_class.loc[(df_class[\"size\"] == \"10+\"), \"size\"] = \"L\"\n",
    "df_class.loc[(df_class[\"size\"] == \"8+\"), \"size\"] = \"M\"\n",
    "df_class.loc[(df_class[\"size\"] == \"42+\"), \"size\"] = \"L\"\n",
    "df_class.loc[(df_class[\"size\"] == \"4+\"), \"size\"] = \"XS\"\n",
    "df_class.loc[(df_class[\"size\"] == \"6+\"), \"size\"] = \"S\"\n",
    "df_class.loc[(df_class[\"size\"] == \"7+\"), \"size\"] = \"S\"\n",
    "df_class.loc[(df_class[\"size\"] == \"36+\"), \"size\"] = \"XS\"\n",
    "df_class.loc[(df_class[\"size\"] == \"39+\"), \"size\"] = \"S\"\n",
    "df_class.loc[(df_class[\"size\"] == \"40+\"), \"size\"] = \"M\"\n",
    "df_class.loc[(df_class[\"size\"] == \"5+\"), \"size\"] = \"XS\"\n",
    "df_class.loc[(df_class[\"size\"] == \"38+\"), \"size\"] = \"S\"\n",
    "df_class.loc[(df_class[\"size\"] == \"11+\"), \"size\"] = \"L\"\n",
    "df_class.loc[(df_class[\"size\"] == \"37+\"), \"size\"] = \"XS\"\n",
    "df_class.loc[(df_class[\"size\"] == \"41+\"), \"size\"] = \"M\"\n",
    "df_class.loc[(df_class[\"size\"] == \"3+\"), \"size\"] = \"XXS\"\n",
    "df_class.loc[(df_class[\"size\"] == \"44+\"), \"size\"] = \"XL\"\n",
    "df_class.loc[(df_class[\"size\"] == \"43+\"), \"size\"] = \"L\"\n",
    "df_class.loc[(df_class[\"size\"] == \"13+\"), \"size\"] = \"XL\"\n",
    "df_class.loc[(df_class[\"size\"] == \"45+\"), \"size\"] = \"XL\"\n",
    "df_class.loc[(df_class[\"size\"] == \"46+\"), \"size\"] = \"XXL\"\n",
    "df_class.loc[(df_class[\"size\"] == \"2+\"), \"size\"] = \"XXS\"\n",
    "df_class.loc[(df_class[\"size\"] == \"12+\"), \"size\"] = \"XL\""
   ]
  },
  {
   "cell_type": "code",
   "execution_count": 83,
   "id": "7041a02b",
   "metadata": {},
   "outputs": [],
   "source": [
    "#mengganti huruf menjadi angka pada atribut size untuk mengubah tipe datanya\n",
    "df_class.loc[(df_class[\"size\"] == \"S\"), \"size\"] = \"38\"\n",
    "df_class.loc[(df_class[\"size\"] == \"M\"), \"size\"] = \"40\"\n",
    "df_class.loc[(df_class[\"size\"] == \"L\"), \"size\"] = \"42\"\n",
    "df_class.loc[(df_class[\"size\"] == \"XL\"), \"size\"] = \"44\"\n",
    "df_class.loc[(df_class[\"size\"] == \"XS\"), \"size\"] = \"36\"\n",
    "df_class.loc[(df_class[\"size\"] == \"XXS\"), \"size\"] = \"34\"\n",
    "df_class.loc[(df_class[\"size\"] == \"XXL\"), \"size\"] = \"46\"\n",
    "df_class.loc[(df_class[\"size\"] == \"XXXL\"), \"size\"] = \"48\"\n",
    "df_class.loc[(df_class[\"size\"] == \"unsized\"), \"size\"] = \"0\""
   ]
  },
  {
   "cell_type": "code",
   "execution_count": 84,
   "id": "9e6d5837",
   "metadata": {},
   "outputs": [],
   "source": [
    "#mengganti tipe data size menjadi integer\n",
    "df_class[\"size\"] = df_class[\"size\"].astype(\"int64\")\n",
    "#membuat kolom baru bertipe object untuk menampung data hasil perubahan dari atribut size\n",
    "df_class.insert(5,\"realsize\", \"-\")"
   ]
  },
  {
   "cell_type": "code",
   "execution_count": 85,
   "id": "210930af",
   "metadata": {},
   "outputs": [],
   "source": [
    "#mengganti angka menjadi huruf berdasarkan ukuran baju US\n",
    "df_class.loc[(df_class[\"size\"] >= 1) & (df_class[\"size\"] <= 3), \"realsize\"] = \"XXS\"\n",
    "df_class.loc[(df_class[\"size\"] >= 4) & (df_class[\"size\"] <= 5), \"realsize\"] = \"XS\"\n",
    "df_class.loc[(df_class[\"size\"] >= 6) & (df_class[\"size\"] <= 7), \"realsize\"] = \"S\"\n",
    "df_class.loc[(df_class[\"size\"] >= 8) & (df_class[\"size\"] <= 9), \"realsize\"] = \"M\"\n",
    "df_class.loc[(df_class[\"size\"] >= 10) & (df_class[\"size\"] <= 11), \"realsize\"] = \"L\"\n",
    "df_class.loc[(df_class[\"size\"] >= 12) & (df_class[\"size\"] <= 13), \"realsize\"] = \"XL\"\n",
    "df_class.loc[(df_class[\"size\"] >= 14) & (df_class[\"size\"] <= 15), \"realsize\"] = \"XXL\"\n",
    "df_class.loc[(df_class[\"size\"] >= 16) & (df_class[\"size\"] <= 17), \"realsize\"] = \"XXXL\""
   ]
  },
  {
   "cell_type": "code",
   "execution_count": 86,
   "id": "e3174bde",
   "metadata": {},
   "outputs": [],
   "source": [
    "#mengganti angka menjadi huruf berdasarkan ukuran baju Eropa\n",
    "df_class.loc[(df_class[\"size\"] >= 18) & (df_class[\"size\"] <= 35), \"realsize\"] = \"XXS\"\n",
    "df_class.loc[(df_class[\"size\"] >= 36) & (df_class[\"size\"] <= 37), \"realsize\"] = \"XS\"\n",
    "df_class.loc[(df_class[\"size\"] >= 38) & (df_class[\"size\"] <= 39), \"realsize\"] = \"S\"\n",
    "df_class.loc[(df_class[\"size\"] >= 40) & (df_class[\"size\"] <= 41), \"realsize\"] = \"M\"\n",
    "df_class.loc[(df_class[\"size\"] >= 42) & (df_class[\"size\"] <= 43), \"realsize\"] = \"L\"\n",
    "df_class.loc[(df_class[\"size\"] >= 44) & (df_class[\"size\"] <= 45), \"realsize\"] = \"XL\"\n",
    "df_class.loc[(df_class[\"size\"] >= 46) & (df_class[\"size\"] <= 47), \"realsize\"] = \"XXL\"\n",
    "df_class.loc[(df_class[\"size\"] >= 48), \"realsize\"] = \"XXXL\""
   ]
  },
  {
   "cell_type": "code",
   "execution_count": 87,
   "id": "bd1296d1",
   "metadata": {},
   "outputs": [],
   "source": [
    "#mengubah data pada size yang 0 menjadi unsized\n",
    "df_class.loc[(df_class[\"size\"] == 0), \"realsize\"] = \"unsized\"\n",
    "#menghapus kolom size\n",
    "df_class = df_class.drop(['size'],axis=1)\n",
    "#mengganti nama kolom realsize menjadi size\n",
    "df_class.rename(columns = {'realsize':'size'}, inplace = True)"
   ]
  },
  {
   "cell_type": "code",
   "execution_count": 88,
   "id": "3431726d",
   "metadata": {},
   "outputs": [],
   "source": [
    "df_class[\"color\"] = df_class[\"color\"].replace('basalt', 'black')\n",
    "df_class[\"color\"] = df_class[\"color\"].replace('ebony', 'black')\n",
    "df_class[\"color\"] = df_class[\"color\"].replace('aqua', 'blue')\n",
    "df_class[\"color\"] = df_class[\"color\"].replace('azure', 'blue')\n",
    "df_class[\"color\"] = df_class[\"color\"].replace('blau', 'blue')\n",
    "df_class[\"color\"] = df_class[\"color\"].replace('baltic blue', 'blue')\n",
    "df_class[\"color\"] = df_class[\"color\"].replace('cobalt blue', 'blue')\n",
    "df_class[\"color\"] = df_class[\"color\"].replace('dark denim', 'blue')\n",
    "df_class[\"color\"] = df_class[\"color\"].replace('dark navy', 'blue')\n",
    "df_class[\"color\"] = df_class[\"color\"].replace('darkblue', 'blue')\n",
    "df_class[\"color\"] = df_class[\"color\"].replace('denim', 'blue')\n",
    "df_class[\"color\"] = df_class[\"color\"].replace('navy', 'blue')\n",
    "df_class[\"color\"] = df_class[\"color\"].replace('petrol', 'blue')\n",
    "df_class[\"color\"] = df_class[\"color\"].replace('almond', 'brown')\n",
    "df_class[\"color\"] = df_class[\"color\"].replace('bronze', 'brown')\n",
    "df_class[\"color\"] = df_class[\"color\"].replace('brwon', 'brown')\n",
    "df_class[\"color\"] = df_class[\"color\"].replace('caramel', 'brown')\n",
    "df_class[\"color\"] = df_class[\"color\"].replace('cognac', 'brown')\n",
    "df_class[\"color\"] = df_class[\"color\"].replace('copper coin', 'brown')\n",
    "df_class[\"color\"] = df_class[\"color\"].replace('cortina mocca', 'brown')\n",
    "df_class[\"color\"] = df_class[\"color\"].replace('khaki', 'brown')\n",
    "df_class[\"color\"] = df_class[\"color\"].replace('mahagoni', 'brown')\n",
    "df_class[\"color\"] = df_class[\"color\"].replace('mocca', 'brown')\n",
    "df_class[\"color\"] = df_class[\"color\"].replace('ocher', 'brown')\n",
    "df_class[\"color\"] = df_class[\"color\"].replace('terracotta', 'brown')\n",
    "df_class[\"color\"] = df_class[\"color\"].replace('aquamarine', 'green')\n",
    "df_class[\"color\"] = df_class[\"color\"].replace('avocado', 'green')\n",
    "df_class[\"color\"] = df_class[\"color\"].replace('dark oliv', 'green')\n",
    "df_class[\"color\"] = df_class[\"color\"].replace('jade', 'green')\n",
    "df_class[\"color\"] = df_class[\"color\"].replace('mint', 'green')\n",
    "df_class[\"color\"] = df_class[\"color\"].replace('oliv', 'green')\n",
    "df_class[\"color\"] = df_class[\"color\"].replace('olive', 'green')\n",
    "df_class[\"color\"] = df_class[\"color\"].replace('turquoise', 'green')\n",
    "df_class[\"color\"] = df_class[\"color\"].replace('anthracite', 'grey')\n",
    "df_class[\"color\"] = df_class[\"color\"].replace('ash', 'grey')\n",
    "df_class[\"color\"] = df_class[\"color\"].replace('dark grey', 'grey')\n",
    "df_class[\"color\"] = df_class[\"color\"].replace('graphite', 'grey')\n",
    "df_class[\"color\"] = df_class[\"color\"].replace('iron', 'grey')\n",
    "df_class[\"color\"] = df_class[\"color\"].replace('apricot', 'orange')\n",
    "df_class[\"color\"] = df_class[\"color\"].replace('coral', 'orange')\n",
    "df_class[\"color\"] = df_class[\"color\"].replace('mango', 'orange')\n",
    "df_class[\"color\"] = df_class[\"color\"].replace('antique pink', 'pink')\n",
    "df_class[\"color\"] = df_class[\"color\"].replace('fuchsia', 'pink')\n",
    "df_class[\"color\"] = df_class[\"color\"].replace('magenta', 'pink')\n",
    "df_class[\"color\"] = df_class[\"color\"].replace('amethyst', 'purple')\n",
    "df_class[\"color\"] = df_class[\"color\"].replace('aubergine', 'purple')\n",
    "df_class[\"color\"] = df_class[\"color\"].replace('berry', 'purple')\n",
    "df_class[\"color\"] = df_class[\"color\"].replace('currant purple', 'purple')\n",
    "df_class[\"color\"] = df_class[\"color\"].replace('hibiscus', 'purple')\n",
    "df_class[\"color\"] = df_class[\"color\"].replace('bordeaux', 'red')\n",
    "df_class[\"color\"] = df_class[\"color\"].replace('crimson', 'red')\n",
    "df_class[\"color\"] = df_class[\"color\"].replace('dark garnet', 'red')\n",
    "df_class[\"color\"] = df_class[\"color\"].replace('beige', 'white')\n",
    "df_class[\"color\"] = df_class[\"color\"].replace('champagner', 'white')\n",
    "df_class[\"color\"] = df_class[\"color\"].replace('ecru', 'white')\n",
    "df_class[\"color\"] = df_class[\"color\"].replace('ivory', 'white')\n",
    "df_class[\"color\"] = df_class[\"color\"].replace('silver', 'white')\n",
    "df_class[\"color\"] = df_class[\"color\"].replace('vanille', 'white')\n",
    "df_class[\"color\"] = df_class[\"color\"].replace('creme', 'yellow')\n",
    "df_class[\"color\"] = df_class[\"color\"].replace('curry', 'yellow')\n",
    "df_class[\"color\"] = df_class[\"color\"].replace('gold', 'yellow')\n",
    "df_class[\"color\"] = df_class[\"color\"].replace('ingwer', 'yellow')\n",
    "df_class[\"color\"] = df_class[\"color\"].replace('lemon', 'yellow')\n",
    "#Pattern || Multicolor\n",
    "df_class[\"color\"] = df_class[\"color\"].replace('leopard', 'other')\n",
    "df_class[\"color\"] = df_class[\"color\"].replace('perlmutt', 'other')\n",
    "df_class[\"color\"] = df_class[\"color\"].replace('curled', 'other')\n",
    "df_class[\"color\"] = df_class[\"color\"].replace('aviator', 'other')\n",
    "df_class[\"color\"] = df_class[\"color\"].replace('opal', 'other')\n",
    "df_class[\"color\"] = df_class[\"color\"].replace('kanel', 'other')\n",
    "df_class[\"color\"] = df_class[\"color\"].replace('striped', 'other')\n",
    "df_class[\"color\"] = df_class[\"color\"].replace('floral', 'other')\n",
    "df_class[\"color\"] = df_class[\"color\"].replace('stained', 'other')\n",
    "df_class[\"color\"] = df_class[\"color\"].replace('ancient', 'other')\n",
    "df_class[\"color\"] = df_class[\"color\"].replace('pallid', 'other')\n",
    "df_class[\"color\"] = df_class[\"color\"].replace('nature', 'other')\n",
    "df_class[\"color\"] = df_class[\"color\"].replace('habana', 'other')\n",
    "#NaN value\n",
    "df_class.loc[(df_class[\"color\"].isna()), \"color\"] = \"unspecified\""
   ]
  },
  {
   "cell_type": "code",
   "execution_count": 89,
   "id": "e0984d00",
   "metadata": {},
   "outputs": [],
   "source": [
    "df_class['salutation'] = df_class['salutation'].replace('Family', 'Other')\n",
    "df_class['salutation'] = df_class['salutation'].replace('Company', 'Other')\n",
    "df_class['salutation'] = df_class['salutation'].replace('not reported', 'Other')"
   ]
  },
  {
   "cell_type": "code",
   "execution_count": 90,
   "id": "608fb122",
   "metadata": {},
   "outputs": [],
   "source": [
    "df_class.insert(19, \"customerAge\", np.nan)\n",
    "df_class[\"customerAge\"] = df_class[\"deliveryDate\"].dt.year.max() - df_class[\"dateOfBirth\"].dt.year"
   ]
  },
  {
   "cell_type": "code",
   "execution_count": 91,
   "id": "d3ef604f",
   "metadata": {},
   "outputs": [],
   "source": [
    "df_class.loc[(df_class[\"customerAge\"].isna()), \"customerAge\"] = df_class[\"customerAge\"].median()"
   ]
  },
  {
   "cell_type": "code",
   "execution_count": 92,
   "id": "23e9b5d2",
   "metadata": {},
   "outputs": [],
   "source": [
    "upper_bound = 69\n",
    "lower_bound = 27\n",
    "#proses penanganan outlier diatas 80 tahun\n",
    "df_class.loc[((df_class.customerAge > 80)), \"customerAge\"] = upper_bound\n",
    "\n",
    "#proses penanganan outlier dibawah 13 tahun\n",
    "df_class.loc[((df_class.customerAge < 13)), \"customerAge\"] = lower_bound"
   ]
  },
  {
   "cell_type": "code",
   "execution_count": 93,
   "id": "a5a19d78",
   "metadata": {},
   "outputs": [],
   "source": [
    "df_class.insert(21, \"accountAgeMonth\", np.nan)\n",
    "df_class[\"accountAgeMonth\"] = ((df_class[\"deliveryDate\"].max() - df_class[\"creationDate\"]) / np.timedelta64(1, 'M')).round()"
   ]
  },
  {
   "cell_type": "code",
   "execution_count": 94,
   "id": "d46ca9b3",
   "metadata": {},
   "outputs": [],
   "source": [
    "df_class = df_class.drop(['orderDate', 'deliveryDate', 'dateOfBirth', 'creationDate'],axis=1)"
   ]
  },
  {
   "cell_type": "code",
   "execution_count": 95,
   "id": "2e1dcf2b",
   "metadata": {},
   "outputs": [],
   "source": [
    "df_class[\"salutation\"] = df_class[\"salutation\"].astype('category')\n",
    "df_class[\"state\"] = df_class[\"state\"].astype('category')\n",
    "df_class[\"color\"] = df_class[\"color\"].astype('category')\n",
    "df_class[\"size\"] = df_class[\"size\"].astype('category')\n",
    "\n",
    "#untuk mengubah atribut menjadi one hot method\n",
    "df_class2 = pd.get_dummies(data=df_class, columns=['salutation','size','color','state'])"
   ]
  },
  {
   "cell_type": "code",
   "execution_count": 96,
   "id": "e299669e",
   "metadata": {},
   "outputs": [
    {
     "data": {
      "text/plain": [
       "(50078, 54)"
      ]
     },
     "execution_count": 96,
     "metadata": {},
     "output_type": "execute_result"
    }
   ],
   "source": [
    "df_class2.shape"
   ]
  },
  {
   "cell_type": "code",
   "execution_count": 97,
   "id": "784bb42b",
   "metadata": {},
   "outputs": [
    {
     "name": "stdout",
     "output_type": "stream",
     "text": [
      "<class 'pandas.core.frame.DataFrame'>\n",
      "RangeIndex: 50078 entries, 0 to 50077\n",
      "Data columns (total 54 columns):\n",
      " #   Column                               Non-Null Count  Dtype  \n",
      "---  ------                               --------------  -----  \n",
      " 0   orderItemID                          50078 non-null  int64  \n",
      " 1   orderYear                            50078 non-null  float64\n",
      " 2   orderMonth                           50078 non-null  float64\n",
      " 3   orderDated                           50078 non-null  float64\n",
      " 4   deliveryYear                         50078 non-null  float64\n",
      " 5   deliveryMonth                        50078 non-null  float64\n",
      " 6   deliveryDated                        50078 non-null  float64\n",
      " 7   deliveryDuration                     50078 non-null  float64\n",
      " 8   itemID                               50078 non-null  int64  \n",
      " 9   manufacturerID                       50078 non-null  int64  \n",
      " 10  price                                50078 non-null  float64\n",
      " 11  customerID                           50078 non-null  int64  \n",
      " 12  customerAge                          50078 non-null  float64\n",
      " 13  accountAgeMonth                      50078 non-null  float64\n",
      " 14  salutation_Mr                        50078 non-null  uint8  \n",
      " 15  salutation_Mrs                       50078 non-null  uint8  \n",
      " 16  salutation_Other                     50078 non-null  uint8  \n",
      " 17  size_L                               50078 non-null  uint8  \n",
      " 18  size_M                               50078 non-null  uint8  \n",
      " 19  size_S                               50078 non-null  uint8  \n",
      " 20  size_XL                              50078 non-null  uint8  \n",
      " 21  size_XS                              50078 non-null  uint8  \n",
      " 22  size_XXL                             50078 non-null  uint8  \n",
      " 23  size_XXS                             50078 non-null  uint8  \n",
      " 24  size_XXXL                            50078 non-null  uint8  \n",
      " 25  size_unsized                         50078 non-null  uint8  \n",
      " 26  color_black                          50078 non-null  uint8  \n",
      " 27  color_blue                           50078 non-null  uint8  \n",
      " 28  color_brown                          50078 non-null  uint8  \n",
      " 29  color_green                          50078 non-null  uint8  \n",
      " 30  color_grey                           50078 non-null  uint8  \n",
      " 31  color_orange                         50078 non-null  uint8  \n",
      " 32  color_other                          50078 non-null  uint8  \n",
      " 33  color_pink                           50078 non-null  uint8  \n",
      " 34  color_purple                         50078 non-null  uint8  \n",
      " 35  color_red                            50078 non-null  uint8  \n",
      " 36  color_white                          50078 non-null  uint8  \n",
      " 37  color_yellow                         50078 non-null  uint8  \n",
      " 38  state_Baden-Wuerttemberg             50078 non-null  uint8  \n",
      " 39  state_Bavaria                        50078 non-null  uint8  \n",
      " 40  state_Berlin                         50078 non-null  uint8  \n",
      " 41  state_Brandenburg                    50078 non-null  uint8  \n",
      " 42  state_Bremen                         50078 non-null  uint8  \n",
      " 43  state_Hamburg                        50078 non-null  uint8  \n",
      " 44  state_Hesse                          50078 non-null  uint8  \n",
      " 45  state_Lower Saxony                   50078 non-null  uint8  \n",
      " 46  state_Mecklenburg-Western Pomerania  50078 non-null  uint8  \n",
      " 47  state_North Rhine-Westphalia         50078 non-null  uint8  \n",
      " 48  state_Rhineland-Palatinate           50078 non-null  uint8  \n",
      " 49  state_Saarland                       50078 non-null  uint8  \n",
      " 50  state_Saxony                         50078 non-null  uint8  \n",
      " 51  state_Saxony-Anhalt                  50078 non-null  uint8  \n",
      " 52  state_Schleswig-Holstein             50078 non-null  uint8  \n",
      " 53  state_Thuringia                      50078 non-null  uint8  \n",
      "dtypes: float64(10), int64(4), uint8(40)\n",
      "memory usage: 7.3 MB\n"
     ]
    }
   ],
   "source": [
    "df_class2.info()"
   ]
  },
  {
   "cell_type": "markdown",
   "id": "2be439b7",
   "metadata": {},
   "source": [
    "Terdapat kolom hasil One Hot Encoding yang ada pada data training tapi tidak ada di data yang akan diprediksi, maka perlu dibuat pada urutan masing-masing kolom yang hilang (color_unspecified pada urutan 36)"
   ]
  },
  {
   "cell_type": "code",
   "execution_count": 98,
   "id": "b8d7aef2",
   "metadata": {},
   "outputs": [],
   "source": [
    "df_class2.insert(36, \"color_unspecified\", 0)"
   ]
  },
  {
   "cell_type": "code",
   "execution_count": 99,
   "id": "a48cb231",
   "metadata": {},
   "outputs": [],
   "source": [
    "import pickle\n",
    "with open ('C:\\\\Users\\\\riska\\\\Downloads\\\\data_returns\\\\orders_train_x_train_columns.pickle', 'rb') as fp:\n",
    "    X_train_column = list(pickle.load(fp))\n",
    "    \n",
    "df_class2 = df_class2[X_train_column]\n"
   ]
  },
  {
   "cell_type": "code",
   "execution_count": 100,
   "id": "22d47fd1",
   "metadata": {},
   "outputs": [
    {
     "data": {
      "text/plain": [
       "array([1, 1, 1, ..., 0, 0, 1], dtype=int64)"
      ]
     },
     "execution_count": 100,
     "metadata": {},
     "output_type": "execute_result"
    }
   ],
   "source": [
    "#from sklearn.externals import joblib\n",
    "clf = joblib.load('C:\\\\Users\\\\riska\\\\Downloads\\\\data_returns\\\\RF_order.joblib')\n",
    "clf.predict(df_class2)\n"
   ]
  },
  {
   "cell_type": "code",
   "execution_count": 101,
   "id": "78c02417",
   "metadata": {},
   "outputs": [],
   "source": [
    "i = 1\n",
    "with open(\"C:\\\\Users\\\\riska\\\\Downloads\\\\data_returns\\\\order_class.txt\", \"w\") as o:\n",
    "    print(\"{0};{1}\".format(\"orderItemID\", \"prediction\"), file = o)\n",
    "    for line in clf.predict(df_class2):\n",
    "        print(\"{0};{1}\".format(i, line), file=o)\n",
    "        i+=1"
   ]
  }
 ],
 "metadata": {
  "kernelspec": {
   "display_name": "Python 3 (ipykernel)",
   "language": "python",
   "name": "python3"
  },
  "language_info": {
   "codemirror_mode": {
    "name": "ipython",
    "version": 3
   },
   "file_extension": ".py",
   "mimetype": "text/x-python",
   "name": "python",
   "nbconvert_exporter": "python",
   "pygments_lexer": "ipython3",
   "version": "3.9.12"
  }
 },
 "nbformat": 4,
 "nbformat_minor": 5
}
